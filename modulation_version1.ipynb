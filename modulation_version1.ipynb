{
 "cells": [
  {
   "cell_type": "code",
   "execution_count": 1,
   "metadata": {
    "collapsed": true,
    "ExecuteTime": {
     "end_time": "2023-12-07T03:39:24.052144Z",
     "start_time": "2023-12-07T03:39:18.287828500Z"
    }
   },
   "outputs": [],
   "source": [
    "from sklearn.model_selection import train_test_split\n",
    "\n",
    "from torch.utils.data import Dataset\n",
    "import torch\n",
    "import h5py\n",
    "from torch.utils.data import DataLoader\n",
    "\n",
    "\n",
    "#1. hdf5 to csv\n",
    "#2. 2M -> 500000\n",
    "#3. save 1/4 ......\n",
    "#4. cross validation\n",
    "#5. stratfiedKfold\n",
    "#GAN->Generator Discriminator\n",
    "\n",
    "#1. introduction\n",
    "#2. 回顾\n",
    "#3. 用到的科技\n",
    "#4. 项目成果\n",
    "#5. 总结\n",
    "# List of Figure\n",
    "# List of tables\n",
    "# Abstract-   at the end\n",
    "# Introduction\n",
    "# Literature Review\n",
    "# Technology\n",
    "# Result of Discussion\n",
    "# Conclusion\n",
    "# Appendix\n",
    "\n"
   ]
  },
  {
   "cell_type": "code",
   "execution_count": 2,
   "outputs": [],
   "source": [
    "file_path = 'F:\\ISEP_Learning_Document\\Semester3\\End-of-track Project\\dataset\\data_raw\\GOLD_XYZ_OSC.0001_1024.hdf5'"
   ],
   "metadata": {
    "collapsed": false,
    "ExecuteTime": {
     "end_time": "2023-12-07T03:39:26.378707100Z",
     "start_time": "2023-12-07T03:39:26.358612900Z"
    }
   }
  },
  {
   "cell_type": "code",
   "execution_count": 3,
   "outputs": [],
   "source": [
    "# Open my file in read mode\n",
    "file_raw = h5py.File(file_path,'r')"
   ],
   "metadata": {
    "collapsed": false,
    "ExecuteTime": {
     "end_time": "2023-12-07T03:39:27.082204400Z",
     "start_time": "2023-12-07T03:39:27.058203500Z"
    }
   }
  },
  {
   "cell_type": "code",
   "execution_count": 4,
   "outputs": [],
   "source": [
    "# access the datasets within the HDF5 File\n",
    "data_raw_x = file_raw['X'][:]\n",
    "data_raw_y = file_raw['Y'][:]\n",
    "data_raw_z = file_raw['Z'][:]"
   ],
   "metadata": {
    "collapsed": false,
    "ExecuteTime": {
     "end_time": "2023-12-07T03:40:23.735715Z",
     "start_time": "2023-12-07T03:39:27.723204300Z"
    }
   }
  },
  {
   "cell_type": "code",
   "execution_count": 5,
   "outputs": [],
   "source": [
    "# Convert the hdf5 dataset to a PyTorch tensor\n",
    "X_tensor = torch.from_numpy(data_raw_x).float()\n",
    "Y_tensor = torch.from_numpy(data_raw_y).long()\n",
    "Z_tensor = torch.from_numpy(data_raw_z).long()"
   ],
   "metadata": {
    "collapsed": false,
    "ExecuteTime": {
     "end_time": "2023-12-07T03:40:30.565101100Z",
     "start_time": "2023-12-07T03:40:30.482995Z"
    }
   }
  },
  {
   "cell_type": "code",
   "execution_count": 6,
   "outputs": [
    {
     "name": "stdout",
     "output_type": "stream",
     "text": [
      "Tensor Dataset_X Information:\n",
      "--------------------------\n",
      "Data type: torch.FloatTensor\n",
      "Data shape: torch.Size([2555904, 1024, 2])\n",
      "Number of elements: 5234491392\n",
      "First few data elements:\n",
      "tensor([[[ 0.0420,  0.2348],\n",
      "         [-0.2729,  0.4051],\n",
      "         [-0.2671,  0.2275],\n",
      "         ...,\n",
      "         [-0.7056, -0.2869],\n",
      "         [-0.4116,  0.6683],\n",
      "         [ 0.0649,  0.6358]],\n",
      "\n",
      "        [[ 1.1986,  0.4494],\n",
      "         [ 0.4854,  0.2827],\n",
      "         [ 0.8679, -0.3319],\n",
      "         ...,\n",
      "         [-1.2129, -0.6429],\n",
      "         [-0.3810,  0.7936],\n",
      "         [ 0.0864,  1.0922]],\n",
      "\n",
      "        [[-0.2235,  0.1814],\n",
      "         [ 0.0620, -0.9343],\n",
      "         [ 0.7195,  0.2179],\n",
      "         ...,\n",
      "         [ 0.7599,  0.0082],\n",
      "         [ 0.3397,  0.1293],\n",
      "         [ 0.5823,  0.1078]],\n",
      "\n",
      "        ...,\n",
      "\n",
      "        [[-0.2001,  1.0368],\n",
      "         [-0.4378, -0.9239],\n",
      "         [-1.3281, -0.3239],\n",
      "         ...,\n",
      "         [ 0.3032,  1.0953],\n",
      "         [-1.2550,  0.7407],\n",
      "         [-0.9081,  0.3837]],\n",
      "\n",
      "        [[ 0.5385, -0.7164],\n",
      "         [ 0.1019,  0.4777],\n",
      "         [-0.0316,  0.2063],\n",
      "         ...,\n",
      "         [ 1.4347,  0.4845],\n",
      "         [-0.0778,  0.0523],\n",
      "         [ 1.2051, -0.0068]],\n",
      "\n",
      "        [[-0.0953,  0.2471],\n",
      "         [-1.8387, -0.4583],\n",
      "         [-0.3410,  0.6197],\n",
      "         ...,\n",
      "         [-0.0165, -1.1036],\n",
      "         [ 1.6031, -0.6724],\n",
      "         [-0.2276, -0.3404]]])\n"
     ]
    }
   ],
   "source": [
    "# The information about dataset X\n",
    "print(\"Tensor Dataset_X Information:\")\n",
    "print(\"--------------------------\")\n",
    "\n",
    "# Check the data type of the tensor dataset\n",
    "print(f\"Data type: {X_tensor.type()}\")\n",
    "\n",
    "# Get the shape (dimensions) of the data\n",
    "print(f\"Data shape: {X_tensor.shape}\")\n",
    "\n",
    "# Check the number of elements in the dataset\n",
    "print(f\"Number of elements: {X_tensor.numel()}\")\n",
    "\n",
    "# Access the first few elements of the data\n",
    "print(\"First few data elements:\")\n",
    "print(X_tensor[:20])"
   ],
   "metadata": {
    "collapsed": false,
    "ExecuteTime": {
     "end_time": "2023-12-07T03:40:32.707938600Z",
     "start_time": "2023-12-07T03:40:32.655937200Z"
    }
   }
  },
  {
   "cell_type": "code",
   "execution_count": 7,
   "outputs": [
    {
     "name": "stdout",
     "output_type": "stream",
     "text": [
      "Tensor Dataset_Y Information:\n",
      "--------------------------\n",
      "Data type: torch.LongTensor\n",
      "Data shape: torch.Size([2555904, 24])\n",
      "Number of elements: 61341696\n",
      "First few data elements:\n",
      "tensor([[1, 0, 0, 0, 0, 0, 0, 0, 0, 0, 0, 0, 0, 0, 0, 0, 0, 0, 0, 0, 0, 0, 0, 0],\n",
      "        [1, 0, 0, 0, 0, 0, 0, 0, 0, 0, 0, 0, 0, 0, 0, 0, 0, 0, 0, 0, 0, 0, 0, 0]])\n"
     ]
    }
   ],
   "source": [
    "# The information about dataset Y\n",
    "print(\"Tensor Dataset_Y Information:\")\n",
    "print(\"--------------------------\")\n",
    "\n",
    "# Check the data type of the tensor dataset\n",
    "print(f\"Data type: {Y_tensor.type()}\")\n",
    "\n",
    "# Get the shape (dimensions) of the data\n",
    "print(f\"Data shape: {Y_tensor.shape}\")\n",
    "\n",
    "# Check the number of elements in the dataset\n",
    "print(f\"Number of elements: {Y_tensor.numel()}\")\n",
    "\n",
    "# Access the first few elements of the data\n",
    "print(\"First few data elements:\")\n",
    "print(Y_tensor[:2])"
   ],
   "metadata": {
    "collapsed": false,
    "ExecuteTime": {
     "end_time": "2023-12-07T03:40:33.840283600Z",
     "start_time": "2023-12-07T03:40:33.804318900Z"
    }
   }
  },
  {
   "cell_type": "code",
   "execution_count": 8,
   "outputs": [
    {
     "name": "stdout",
     "output_type": "stream",
     "text": [
      "Tensor Dataset_Z Information:\n",
      "--------------------------\n",
      "Data type: torch.LongTensor\n",
      "Data shape: torch.Size([2555904, 1])\n",
      "Number of elements: 2555904\n",
      "First few data elements:\n",
      "tensor([[-20],\n",
      "        [-20]])\n"
     ]
    }
   ],
   "source": [
    "# The information about dataset Z\n",
    "print(\"Tensor Dataset_Z Information:\")\n",
    "print(\"--------------------------\")\n",
    "\n",
    "# Check the data type of the tensor dataset\n",
    "print(f\"Data type: {Z_tensor.type()}\")\n",
    "\n",
    "# Get the shape (dimensions) of the data\n",
    "print(f\"Data shape: {Z_tensor.shape}\")\n",
    "\n",
    "# Check the number of elements in the dataset\n",
    "print(f\"Number of elements: {Z_tensor.numel()}\")\n",
    "\n",
    "# Access the first few elements of the data\n",
    "print(\"First few data elements:\")\n",
    "print(Z_tensor[:2])"
   ],
   "metadata": {
    "collapsed": false,
    "ExecuteTime": {
     "end_time": "2023-12-07T03:40:34.440923200Z",
     "start_time": "2023-12-07T03:40:34.358741900Z"
    }
   }
  },
  {
   "cell_type": "code",
   "execution_count": 9,
   "outputs": [
    {
     "name": "stdout",
     "output_type": "stream",
     "text": [
      "Training set size: 1533542\n",
      "Validation set size: 511181\n",
      "Test set size: 511181\n"
     ]
    }
   ],
   "source": [
    "# Split the dataset ：60% trainset，40% temporary set\n",
    "X_train, X_temp, Y_train, Y_temp = train_test_split(X_tensor, Y_tensor, test_size=0.4, random_state=42, stratify=Y_tensor)\n",
    "\n",
    "# Split temporaryset ：50% validation dataset，50% testset\n",
    "X_val, X_test, Y_val, Y_test = train_test_split(X_temp, Y_temp, test_size=0.5, random_state=42, stratify=Y_temp)\n",
    "\n",
    "# check\n",
    "print(\"Training set size:\", X_train.shape[0])\n",
    "print(\"Validation set size:\", X_val.shape[0])\n",
    "print(\"Test set size:\", X_test.shape[0])"
   ],
   "metadata": {
    "collapsed": false,
    "ExecuteTime": {
     "end_time": "2023-12-07T03:54:59.594198600Z",
     "start_time": "2023-12-07T03:40:38.906444900Z"
    }
   }
  },
  {
   "cell_type": "code",
   "execution_count": 10,
   "outputs": [],
   "source": [
    "class CustomDataset(Dataset):\n",
    "    def __init__(self, features, labels):\n",
    "        self.features = features\n",
    "        self.labels = labels\n",
    "\n",
    "    def __len__(self):\n",
    "        return len(self.labels)\n",
    "\n",
    "    def __getitem__(self, idx):\n",
    "        return self.features[idx], self.labels[idx]\n",
    "\n",
    "train_dataset = CustomDataset(X_train, Y_train)\n",
    "val_dataset = CustomDataset(X_val, Y_val)\n",
    "test_dataset = CustomDataset(X_test, Y_test)\n",
    "\n",
    "train_loader = DataLoader(train_dataset, batch_size=64, shuffle=True)\n",
    "val_loader = DataLoader(val_dataset, batch_size=64, shuffle=False)\n",
    "test_loader = DataLoader(test_dataset, batch_size=64, shuffle=False)"
   ],
   "metadata": {
    "collapsed": false,
    "ExecuteTime": {
     "end_time": "2023-12-07T03:55:03.788982200Z",
     "start_time": "2023-12-07T03:55:03.699992300Z"
    }
   }
  },
  {
   "cell_type": "code",
   "execution_count": 11,
   "outputs": [],
   "source": [
    "import torch.nn as nn\n",
    "\n",
    "class ModulationCNN(nn.Module):\n",
    "    def __init__(self, num_features, n_classes, input_length=1024):\n",
    "        super().__init__()\n",
    "\n",
    "        self.conv1 = nn.Conv1d(in_channels=num_features, out_channels=48, kernel_size=2, stride=2)\n",
    "        self.batchnorm1 = nn.BatchNorm1d(48)\n",
    "        self.conv2 = nn.Conv1d(in_channels=48, out_channels=48, kernel_size=2, stride=2)\n",
    "        self.batchnorm2 = nn.BatchNorm1d(48)\n",
    "        self.conv3 = nn.Conv1d(in_channels=48, out_channels=24, kernel_size=1, stride=1)\n",
    "        self.batchnorm3 = nn.BatchNorm1d(24)\n",
    "        self.flatten = nn.Flatten()\n",
    "\n",
    "        # Calculate the input size of the fully connected layer\n",
    "        flattened_size = self._compute_flattened_size(input_length, num_features)\n",
    "\n",
    "        self.fc1 = nn.Linear(flattened_size, 120)\n",
    "        self.batchnorm_fc1 = nn.BatchNorm1d(120)\n",
    "        self.fc2 = nn.Linear(120, n_classes)\n",
    "\n",
    "        self.af = nn.ReLU()\n",
    "        self.af_out = nn.Softmax(dim=1)\n",
    "\n",
    "    def _compute_flattened_size(self, input_length, num_features):\n",
    "        # Temporary tensor used to calculate the flattened dimensions\n",
    "        temp_tensor = torch.zeros(1, num_features, input_length)\n",
    "\n",
    "        # Through convolutional layers but excluding fully connected layers\n",
    "        temp_tensor = self.conv1(temp_tensor)\n",
    "        temp_tensor = self.batchnorm1(temp_tensor)\n",
    "        temp_tensor = self.conv2(temp_tensor)\n",
    "        temp_tensor = self.batchnorm2(temp_tensor)\n",
    "        temp_tensor = self.conv3(temp_tensor)\n",
    "        temp_tensor = self.batchnorm3(temp_tensor)\n",
    "        temp_tensor = self.flatten(temp_tensor)\n",
    "\n",
    "        # Returns the total number of features after flattening\n",
    "        return temp_tensor.nelement()\n",
    "\n",
    "    def forward(self, X):\n",
    "        x = self.conv1(X.permute(0,2,1))\n",
    "        x = self.af(self.batchnorm1(x))\n",
    "        x = self.conv2(x)\n",
    "        x = self.af(self.batchnorm2(x))\n",
    "        x = self.conv3(x)\n",
    "        x = self.af(self.batchnorm3(x))\n",
    "        x = x.view(x.size(0), -1)  # Flatten\n",
    "        x = self.fc1(x)\n",
    "        x = self.af(self.batchnorm_fc1(x))\n",
    "        x = self.fc2(x)\n",
    "        x = self.af_out(x)\n",
    "        return x\n",
    "\n",
    "\n"
   ],
   "metadata": {
    "collapsed": false,
    "ExecuteTime": {
     "end_time": "2023-12-07T03:55:04.511298Z",
     "start_time": "2023-12-07T03:55:04.487297400Z"
    }
   }
  },
  {
   "cell_type": "code",
   "execution_count": 12,
   "outputs": [
    {
     "name": "stdout",
     "output_type": "stream",
     "text": [
      "Using device: cuda\n"
     ]
    }
   ],
   "source": [
    "import torch\n",
    "import torch.nn as nn\n",
    "import torch.optim as optim\n",
    "\n",
    "\n",
    "device = torch.device(\"cuda\" if torch.cuda.is_available() else \"cpu\")\n",
    "print(\"Using device:\", device)\n",
    "\n",
    "model = ModulationCNN(num_features=2, n_classes=24).to(device)\n",
    "\n",
    "criterion = nn.CrossEntropyLoss()\n",
    "optimizer = optim.Adam(model.parameters(), lr=0.001)"
   ],
   "metadata": {
    "collapsed": false,
    "ExecuteTime": {
     "end_time": "2023-12-07T03:55:06.103750200Z",
     "start_time": "2023-12-07T03:55:05.366392200Z"
    }
   }
  },
  {
   "cell_type": "code",
   "execution_count": 13,
   "outputs": [
    {
     "name": "stderr",
     "output_type": "stream",
     "text": [
      "Epoch 1/10 [Train]: 100%|██████████| 23962/23962 [09:13<00:00, 43.26it/s, acc=0.326, loss=2.92]  \n",
      "Epoch 1/10 [Val]: 100%|██████████| 7988/7988 [00:42<00:00, 188.95it/s, acc=0.254, loss=2.99]\n",
      "Epoch 2/10 [Train]: 100%|██████████| 23962/23962 [06:12<00:00, 64.40it/s, acc=0.361, loss=2.88]\n",
      "Epoch 2/10 [Val]: 100%|██████████| 7988/7988 [00:38<00:00, 208.87it/s, acc=0.281, loss=2.96]\n",
      "Epoch 3/10 [Train]: 100%|██████████| 23962/23962 [06:01<00:00, 66.25it/s, acc=0.376, loss=2.87]\n",
      "Epoch 3/10 [Val]: 100%|██████████| 7988/7988 [00:36<00:00, 217.50it/s, acc=0.231, loss=3.02]\n",
      "Epoch 4/10 [Train]: 100%|██████████| 23962/23962 [06:19<00:00, 63.17it/s, acc=0.387, loss=2.86]\n",
      "Epoch 4/10 [Val]: 100%|██████████| 7988/7988 [00:36<00:00, 219.04it/s, acc=0.24, loss=3.01] \n",
      "Epoch 5/10 [Train]: 100%|██████████| 23962/23962 [05:50<00:00, 68.45it/s, acc=0.397, loss=2.85]\n",
      "Epoch 5/10 [Val]: 100%|██████████| 7988/7988 [00:36<00:00, 217.16it/s, acc=0.236, loss=3.01]\n",
      "Epoch 6/10 [Train]: 100%|██████████| 23962/23962 [05:51<00:00, 68.25it/s, acc=0.405, loss=2.84]\n",
      "Epoch 6/10 [Val]: 100%|██████████| 7988/7988 [00:37<00:00, 213.70it/s, acc=0.232, loss=3.02]\n",
      "Epoch 7/10 [Train]: 100%|██████████| 23962/23962 [05:57<00:00, 67.08it/s, acc=0.414, loss=2.83]\n",
      "Epoch 7/10 [Val]: 100%|██████████| 7988/7988 [00:36<00:00, 217.38it/s, acc=0.261, loss=2.98]\n",
      "Epoch 8/10 [Train]: 100%|██████████| 23962/23962 [06:09<00:00, 64.88it/s, acc=0.422, loss=2.82]\n",
      "Epoch 8/10 [Val]: 100%|██████████| 7988/7988 [00:36<00:00, 217.95it/s, acc=0.306, loss=2.94]\n",
      "Epoch 9/10 [Train]: 100%|██████████| 23962/23962 [06:19<00:00, 63.10it/s, acc=0.428, loss=2.82]\n",
      "Epoch 9/10 [Val]: 100%|██████████| 7988/7988 [00:47<00:00, 169.76it/s, acc=0.254, loss=2.99]\n",
      "Epoch 10/10 [Train]: 100%|██████████| 23962/23962 [06:59<00:00, 57.14it/s, acc=0.432, loss=2.81]\n",
      "Epoch 10/10 [Val]: 100%|██████████| 7988/7988 [00:46<00:00, 170.95it/s, acc=0.216, loss=3.03]\n"
     ]
    }
   ],
   "source": [
    "from tqdm import tqdm\n",
    "import torch.nn as nn\n",
    "\n",
    "n_epochs = 10\n",
    "\n",
    "for epoch in range(n_epochs):\n",
    "    model.train()\n",
    "    running_train_loss = 0.0\n",
    "    running_train_acc = 0.0\n",
    "    progress_bar_train = tqdm(train_loader, desc=f'Epoch {epoch+1}/{n_epochs} [Train]')\n",
    "\n",
    "    for inputs, labels in progress_bar_train:\n",
    "        inputs, labels = inputs.to(device), labels.to(device)\n",
    "        optimizer.zero_grad()\n",
    "\n",
    "        # forward propagation\n",
    "        outputs = model(inputs)\n",
    "        loss = criterion(outputs, torch.max(labels, 1)[1])\n",
    "        running_train_loss += loss.item()\n",
    "\n",
    "        # Backpropagation and optimization\n",
    "        loss.backward()\n",
    "        optimizer.step()\n",
    "\n",
    "        # Calculate training accuracy\n",
    "        _, predicted = torch.max(outputs.data, 1)\n",
    "        correct = (predicted == torch.max(labels, 1)[1]).float().sum().item()\n",
    "        running_train_acc += correct / labels.size(0)\n",
    "\n",
    "        # Update progress bar\n",
    "        progress_bar_train.set_postfix(loss=running_train_loss/(progress_bar_train.n+1),\n",
    "                                       acc=running_train_acc/(progress_bar_train.n+1))\n",
    "\n",
    "    model.eval()\n",
    "    running_val_loss = 0.0\n",
    "    running_val_acc = 0.0\n",
    "    progress_bar_val = tqdm(val_loader, desc=f'Epoch {epoch+1}/{n_epochs} [Val]')\n",
    "\n",
    "    with torch.no_grad():\n",
    "        for inputs, labels in progress_bar_val:\n",
    "            inputs, labels = inputs.to(device), labels.to(device)\n",
    "\n",
    "            outputs = model(inputs)\n",
    "            loss = criterion(outputs, torch.max(labels, 1)[1])\n",
    "            running_val_loss += loss.item()\n",
    "\n",
    "            _, predicted = torch.max(outputs.data, 1)\n",
    "            correct = (predicted == torch.max(labels, 1)[1]).float().sum().item()\n",
    "            running_val_acc += correct / labels.size(0)\n",
    "\n",
    "            progress_bar_val.set_postfix(loss=running_val_loss/(progress_bar_val.n+1),\n",
    "                                         acc=running_val_acc/(progress_bar_val.n+1))"
   ],
   "metadata": {
    "collapsed": false,
    "ExecuteTime": {
     "end_time": "2023-12-07T05:06:36.220858400Z",
     "start_time": "2023-12-07T03:55:07.093035300Z"
    }
   }
  },
  {
   "cell_type": "code",
   "execution_count": null,
   "outputs": [],
   "source": [
    "# model updated"
   ],
   "metadata": {
    "collapsed": false
   }
  }
 ],
 "metadata": {
  "kernelspec": {
   "name": "modulation",
   "language": "python",
   "display_name": "modulation"
  },
  "language_info": {
   "codemirror_mode": {
    "name": "ipython",
    "version": 2
   },
   "file_extension": ".py",
   "mimetype": "text/x-python",
   "name": "python",
   "nbconvert_exporter": "python",
   "pygments_lexer": "ipython2",
   "version": "2.7.6"
  }
 },
 "nbformat": 4,
 "nbformat_minor": 0
}
