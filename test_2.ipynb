{
 "cells": [
  {
   "cell_type": "code",
   "execution_count": 1,
   "id": "cd38475c",
   "metadata": {
    "ExecuteTime": {
     "end_time": "2023-10-18T21:41:37.281600Z",
     "start_time": "2023-10-18T21:41:34.271139Z"
    }
   },
   "outputs": [],
   "source": [
    "import torch\n",
    "import h5py\n",
    "from torch.utils.data import DataLoader, TensorDataset, random_split"
   ]
  },
  {
   "cell_type": "markdown",
   "id": "832a111d",
   "metadata": {},
   "source": [
    "#Load dataset"
   ]
  },
  {
   "cell_type": "code",
   "execution_count": 2,
   "id": "100bad1c",
   "metadata": {
    "ExecuteTime": {
     "end_time": "2023-10-18T21:41:38.580737Z",
     "start_time": "2023-10-18T21:41:38.573602Z"
    }
   },
   "outputs": [],
   "source": [
    "file_path = '/Users/fhy/isep3th/project/data/2018.01/GOLD_XYZ_OSC.0001_1024.hdf5'"
   ]
  },
  {
   "cell_type": "code",
   "execution_count": 3,
   "id": "dbf6d77b",
   "metadata": {
    "ExecuteTime": {
     "end_time": "2023-10-18T21:41:39.601228Z",
     "start_time": "2023-10-18T21:41:39.595162Z"
    }
   },
   "outputs": [],
   "source": [
    "#Open my file in read mode\n",
    "file_raw = h5py.File(file_path,'r')"
   ]
  },
  {
   "cell_type": "markdown",
   "id": "4b056219",
   "metadata": {},
   "source": [
    "#get 10% data to test(optional)"
   ]
  },
  {
   "cell_type": "code",
   "execution_count": 4,
   "id": "6856bedf",
   "metadata": {
    "ExecuteTime": {
     "end_time": "2023-10-18T21:42:31.435083Z",
     "start_time": "2023-10-18T21:41:42.193639Z"
    }
   },
   "outputs": [],
   "source": [
    "#access the datasets within the HDF5 File\n",
    "data_raw_x = file_raw['X'][:]\n",
    "data_raw_y = file_raw['Y'][:]\n",
    "data_raw_z = file_raw['Z'][:]\n",
    "\n",
    "# #reduce the dataset to 10%\n",
    "# # Calculate the new reduced size (10% of the original)\n",
    "new_size = int(len(data_raw_x) * 0.10)\n",
    "\n",
    "# Generate random indines to maintain the corresponding relationships\n",
    "randon_indices = torch.randperm(len(data_raw_x))[:new_size]\n",
    "# Use the random indices to create reduced data\n",
    "data_raw_x_reduced = data_raw_x[randon_indices]\n",
    "data_raw_y_reduced = data_raw_y[randon_indices]\n",
    "data_raw_z_reduced = data_raw_z[randon_indices]"
   ]
  },
  {
   "cell_type": "markdown",
   "id": "b8b7114d",
   "metadata": {},
   "source": [
    "#hdf5->tensor"
   ]
  },
  {
   "cell_type": "code",
   "execution_count": 5,
   "id": "322a1c4c",
   "metadata": {
    "ExecuteTime": {
     "end_time": "2023-10-18T21:43:48.098037Z",
     "start_time": "2023-10-18T21:43:48.092427Z"
    }
   },
   "outputs": [],
   "source": [
    "# # Convert the hdf5 dataset to a PyTorch tensor\n",
    "# X_tensor = torch.from_numpy(data_raw_x).float()\n",
    "# Y_tensor = torch.from_numpy(data_raw_y).long()\n",
    "# Z_tensor = torch.from_numpy(data_raw_z).long()\n",
    "\n",
    "# Convert the hdf5 dataset to a PyTorch tensor\n",
    "X_tensor = torch.from_numpy(data_raw_x_reduced).float()\n",
    "Y_tensor = torch.from_numpy(data_raw_y_reduced).long()\n",
    "Z_tensor = torch.from_numpy(data_raw_z_reduced).long()"
   ]
  },
  {
   "cell_type": "markdown",
   "source": [
    "#Random data according to index and split"
   ],
   "metadata": {
    "collapsed": false
   }
  },
  {
   "cell_type": "code",
   "execution_count": 6,
   "id": "2c6d5605",
   "metadata": {
    "ExecuteTime": {
     "end_time": "2023-10-18T21:43:55.169733Z",
     "start_time": "2023-10-18T21:43:54.226427Z"
    }
   },
   "outputs": [],
   "source": [
    "# Get the number of samples in dataset\n",
    "num_samples = X_tensor.size(0)\n",
    "\n",
    "# Create a random permutation of indices\n",
    "random_indices = torch.randperm(num_samples)\n",
    "\n",
    "# Use these indices to shuffle data tensors\n",
    "X_tensor = X_tensor[random_indices]\n",
    "Y_tensor = Y_tensor[random_indices]\n",
    "Z_tensor = Z_tensor[random_indices]"
   ]
  },
  {
   "cell_type": "markdown",
   "source": [
    "#Normalize according to the batch size"
   ],
   "metadata": {
    "collapsed": false
   }
  },
  {
   "cell_type": "code",
   "execution_count": 7,
   "id": "136845d9",
   "metadata": {
    "ExecuteTime": {
     "end_time": "2023-10-18T21:44:05.358501Z",
     "start_time": "2023-10-18T21:44:00.092613Z"
    }
   },
   "outputs": [],
   "source": [
    "#Normalize X_tensor\n",
    "# Define the batch size for normalization\n",
    "batch_size = 64\n",
    "\n",
    "# Calculate the number of batches needed\n",
    "num_samples = X_tensor.size(0)\n",
    "num_batches = (num_samples + batch_size - 1)//batch_size\n",
    "\n",
    "# Create a list to store the normalized batches\n",
    "normalized_batches = []\n",
    "\n",
    "# Normalize the data in batches\n",
    "for i in range(num_batches):\n",
    "    start_idx = i * batch_size\n",
    "    end_idx = min((i + 1) * batch_size, num_samples)\n",
    "    batch = X_tensor[start_idx:end_idx]\n",
    "\n",
    "    # Calculate batch statistics for normalization\n",
    "    batch_mean = batch.mean(dim=0)\n",
    "    batch_std = batch.std(dim=0)\n",
    "\n",
    "    # Normalize the batch using z-score\n",
    "    normalized_batch = (batch - batch_mean) / batch_std\n",
    "\n",
    "    # Append the normalized batch to the list\n",
    "    normalized_batches.append(normalized_batch)\n",
    "\n",
    "# Stack the normalized batches back together\n",
    "X_tensor = torch.cat(normalized_batches, dim=0)\n",
    "\n",
    "# Verify that the number of samples remains the same\n",
    "assert X_tensor.size(0) == num_samples"
   ]
  },
  {
   "cell_type": "markdown",
   "source": [
    "###See the shape of X after normalization"
   ],
   "metadata": {
    "collapsed": false
   }
  },
  {
   "cell_type": "code",
   "execution_count": 8,
   "id": "713c2442",
   "metadata": {
    "ExecuteTime": {
     "end_time": "2023-10-18T21:44:08.206531Z",
     "start_time": "2023-10-18T21:44:08.205387Z"
    }
   },
   "outputs": [
    {
     "name": "stdout",
     "output_type": "stream",
     "text": [
      "Data shape: torch.Size([255590, 1024, 2])\n"
     ]
    }
   ],
   "source": [
    "# Get the shape (dimensions) of the data\n",
    "print(f\"Data shape: {X_tensor.shape}\")"
   ]
  },
  {
   "cell_type": "markdown",
   "source": [
    "###See information about 'X' after normalization"
   ],
   "metadata": {
    "collapsed": false
   }
  },
  {
   "cell_type": "code",
   "execution_count": 9,
   "id": "7025b692",
   "metadata": {
    "ExecuteTime": {
     "end_time": "2023-10-18T21:44:12.480789Z",
     "start_time": "2023-10-18T21:44:12.473359Z"
    }
   },
   "outputs": [
    {
     "name": "stdout",
     "output_type": "stream",
     "text": [
      "Tensor Dataset_X Information:\n",
      "--------------------------\n",
      "Data type: torch.FloatTensor\n",
      "Data shape: torch.Size([255590, 1024, 2])\n",
      "Number of elements: 523448320\n",
      "First few data elements:\n",
      "tensor([[[-0.2231, -0.2646],\n",
      "         [ 0.4982, -0.7664],\n",
      "         [-0.1687,  0.5066],\n",
      "         ...,\n",
      "         [-0.0397, -0.2905],\n",
      "         [ 0.6986, -0.2619],\n",
      "         [ 0.4629, -1.0703]],\n",
      "\n",
      "        [[ 0.2684, -1.1706],\n",
      "         [ 0.2288, -0.5310],\n",
      "         [-0.0122, -0.7538],\n",
      "         ...,\n",
      "         [-0.0544, -0.5224],\n",
      "         [ 0.6662, -1.1999],\n",
      "         [ 0.0125,  0.3357]],\n",
      "\n",
      "        [[ 0.5383, -0.1015],\n",
      "         [ 0.3191, -0.5162],\n",
      "         [ 0.4773, -0.4351],\n",
      "         ...,\n",
      "         [ 0.1005, -0.5876],\n",
      "         [ 0.2164,  0.0614],\n",
      "         [ 0.5558, -0.3028]],\n",
      "\n",
      "        ...,\n",
      "\n",
      "        [[ 0.5037,  0.5626],\n",
      "         [ 0.0100, -0.4297],\n",
      "         [ 0.7238, -0.5382],\n",
      "         ...,\n",
      "         [-0.1338, -0.4628],\n",
      "         [-0.0753, -0.9135],\n",
      "         [-0.0127, -0.3052]],\n",
      "\n",
      "        [[ 0.0839, -0.1596],\n",
      "         [ 0.1374, -0.0400],\n",
      "         [ 0.0944, -0.1318],\n",
      "         ...,\n",
      "         [ 0.3529, -0.1664],\n",
      "         [ 0.2745, -0.1476],\n",
      "         [ 0.3598, -0.1469]],\n",
      "\n",
      "        [[ 0.4424, -0.6115],\n",
      "         [ 0.4533, -0.5432],\n",
      "         [ 0.4736, -0.2474],\n",
      "         ...,\n",
      "         [ 0.4978, -0.3675],\n",
      "         [ 0.4087, -0.3050],\n",
      "         [ 0.4820, -0.1432]]])\n"
     ]
    }
   ],
   "source": [
    "# Inspect attributes and basic information\n",
    "print(\"Tensor Dataset_X Information:\")\n",
    "print(\"--------------------------\")\n",
    "\n",
    "# Check the data type of the tensor dataset\n",
    "print(f\"Data type: {X_tensor.type()}\")\n",
    "\n",
    "# Get the shape (dimensions) of the data\n",
    "print(f\"Data shape: {X_tensor.shape}\")\n",
    "\n",
    "# Check the number of elements in the dataset\n",
    "print(f\"Number of elements: {X_tensor.numel()}\")\n",
    "\n",
    "# Access the first few elements of the data\n",
    "print(\"First few data elements:\")\n",
    "print(X_tensor[:10])"
   ]
  },
  {
   "cell_type": "markdown",
   "source": [
    "###See information about 'Y' after normalization"
   ],
   "metadata": {
    "collapsed": false
   }
  },
  {
   "cell_type": "code",
   "execution_count": 10,
   "id": "f3740a20",
   "metadata": {
    "ExecuteTime": {
     "end_time": "2023-10-18T21:44:18.792104Z",
     "start_time": "2023-10-18T21:44:18.789239Z"
    }
   },
   "outputs": [
    {
     "name": "stdout",
     "output_type": "stream",
     "text": [
      "Tensor Dataset_Y Information:\n",
      "--------------------------\n",
      "Data type: torch.LongTensor\n",
      "Data shape: torch.Size([255590, 24])\n",
      "Number of elements: 6134160\n",
      "First few data elements:\n",
      "tensor([[0, 0, 0, 0, 0, 0, 0, 0, 0, 0, 0, 0, 0, 0, 1, 0, 0, 0, 0, 0, 0, 0, 0, 0],\n",
      "        [0, 0, 0, 0, 0, 0, 1, 0, 0, 0, 0, 0, 0, 0, 0, 0, 0, 0, 0, 0, 0, 0, 0, 0],\n",
      "        [0, 0, 0, 0, 0, 0, 0, 0, 0, 0, 0, 0, 0, 0, 0, 0, 0, 0, 0, 0, 0, 1, 0, 0],\n",
      "        [0, 0, 0, 0, 0, 0, 0, 0, 0, 0, 0, 0, 0, 0, 0, 0, 0, 0, 0, 0, 0, 0, 1, 0],\n",
      "        [0, 0, 0, 0, 0, 0, 0, 0, 0, 0, 0, 0, 0, 0, 0, 0, 0, 0, 0, 0, 0, 0, 0, 1],\n",
      "        [0, 0, 0, 0, 0, 0, 0, 0, 0, 0, 0, 0, 0, 0, 0, 0, 0, 0, 0, 1, 0, 0, 0, 0],\n",
      "        [0, 0, 0, 0, 0, 0, 0, 0, 0, 0, 1, 0, 0, 0, 0, 0, 0, 0, 0, 0, 0, 0, 0, 0],\n",
      "        [0, 0, 0, 1, 0, 0, 0, 0, 0, 0, 0, 0, 0, 0, 0, 0, 0, 0, 0, 0, 0, 0, 0, 0],\n",
      "        [0, 1, 0, 0, 0, 0, 0, 0, 0, 0, 0, 0, 0, 0, 0, 0, 0, 0, 0, 0, 0, 0, 0, 0],\n",
      "        [0, 0, 0, 0, 0, 0, 0, 0, 0, 0, 0, 0, 0, 0, 0, 0, 0, 0, 0, 0, 0, 1, 0, 0]])\n"
     ]
    }
   ],
   "source": [
    "# Inspect attributes and basic information\n",
    "print(\"Tensor Dataset_Y Information:\")\n",
    "print(\"--------------------------\")\n",
    "\n",
    "# Check the data type of the tensor dataset\n",
    "print(f\"Data type: {Y_tensor.type()}\")\n",
    "\n",
    "# Get the shape (dimensions) of the data\n",
    "print(f\"Data shape: {Y_tensor.shape}\")\n",
    "\n",
    "# Check the number of elements in the dataset\n",
    "print(f\"Number of elements: {Y_tensor.numel()}\")\n",
    "\n",
    "# Access the first few elements of the data\n",
    "print(\"First few data elements:\")\n",
    "print(Y_tensor[:10])"
   ]
  },
  {
   "cell_type": "markdown",
   "source": [
    "###See information about 'Z' after normalization"
   ],
   "metadata": {
    "collapsed": false
   }
  },
  {
   "cell_type": "code",
   "execution_count": 11,
   "id": "d62f22b1",
   "metadata": {
    "ExecuteTime": {
     "end_time": "2023-10-18T21:44:23.454104Z",
     "start_time": "2023-10-18T21:44:23.446731Z"
    }
   },
   "outputs": [
    {
     "name": "stdout",
     "output_type": "stream",
     "text": [
      "Tensor Dataset_Z Information:\n",
      "--------------------------\n",
      "Data type: torch.LongTensor\n",
      "Data shape: torch.Size([255590, 1])\n",
      "Number of elements: 255590\n",
      "First few data elements:\n",
      "tensor([[-12],\n",
      "        [ -6],\n",
      "        [ -2],\n",
      "        [ 20],\n",
      "        [ 22],\n",
      "        [ 16],\n",
      "        [ 28],\n",
      "        [ -4],\n",
      "        [  8],\n",
      "        [ 10],\n",
      "        [-16],\n",
      "        [-12],\n",
      "        [ 20],\n",
      "        [ 22],\n",
      "        [ 26],\n",
      "        [ 26],\n",
      "        [ -8],\n",
      "        [ 20],\n",
      "        [  4],\n",
      "        [  4],\n",
      "        [ 30],\n",
      "        [ 30],\n",
      "        [ -8],\n",
      "        [ -2],\n",
      "        [ 26],\n",
      "        [ 20],\n",
      "        [  4],\n",
      "        [ -4],\n",
      "        [  0],\n",
      "        [  4],\n",
      "        [ -4],\n",
      "        [ 18],\n",
      "        [  2],\n",
      "        [ 28],\n",
      "        [  8],\n",
      "        [ -6],\n",
      "        [ 26],\n",
      "        [ 12],\n",
      "        [-14],\n",
      "        [ -4],\n",
      "        [ 26],\n",
      "        [ -8],\n",
      "        [ -2],\n",
      "        [  0],\n",
      "        [ 20],\n",
      "        [-18],\n",
      "        [ 16],\n",
      "        [ 24],\n",
      "        [  4],\n",
      "        [ 30]])\n"
     ]
    }
   ],
   "source": [
    "# Inspect attributes and basic information\n",
    "print(\"Tensor Dataset_Z Information:\")\n",
    "print(\"--------------------------\")\n",
    "\n",
    "# Check the data type of the tensor dataset\n",
    "print(f\"Data type: {Z_tensor.type()}\")\n",
    "\n",
    "# Get the shape (dimensions) of the data\n",
    "print(f\"Data shape: {Z_tensor.shape}\")\n",
    "\n",
    "# Check the number of elements in the dataset\n",
    "print(f\"Number of elements: {Z_tensor.numel()}\")\n",
    "\n",
    "# Access the first few elements of the data\n",
    "print(\"First few data elements:\")\n",
    "print(Z_tensor[:50])"
   ]
  },
  {
   "cell_type": "markdown",
   "source": [
    "#Split the data into train, test and validation"
   ],
   "metadata": {
    "collapsed": false
   }
  },
  {
   "cell_type": "code",
   "execution_count": 12,
   "id": "a6335e2a",
   "metadata": {
    "ExecuteTime": {
     "end_time": "2023-10-18T21:44:25.880516Z",
     "start_time": "2023-10-18T21:44:25.878367Z"
    }
   },
   "outputs": [],
   "source": [
    "# Combine X_tensor, Y_tensor, Z_tensor into a single dataset\n",
    "dataset = TensorDataset(X_tensor, Y_tensor, Z_tensor)\n",
    "\n",
    "# Calculate the sizes of training, validation, and test sets.\n",
    "total_size = len(X_tensor)\n",
    "\n",
    "train_size = int(total_size * 0.6)\n",
    "val_size = int(total_size * 0.2)\n",
    "test_size = total_size - train_size -val_size\n",
    "\n",
    "#split the dataset\n",
    "train_dataset = dataset[:train_size]\n",
    "val_dataset = dataset[train_size:train_size + val_size]\n",
    "test_dataset = dataset[train_size+val_size:]\n",
    "\n",
    "#Define batch size\n",
    "batch_size = 64\n",
    "\n",
    "#Create DataLoaders for each set\n",
    "train_loader = DataLoader(train_dataset, batch_size = batch_size, shuffle= False)\n",
    "val_loader = DataLoader(val_dataset, batch_size = batch_size, shuffle= False)\n",
    "test_loader = DataLoader(test_dataset, batch_size = batch_size, shuffle= False)"
   ]
  },
  {
   "cell_type": "markdown",
   "id": "42b13fcd",
   "metadata": {},
   "source": []
  }
 ],
 "metadata": {
  "kernelspec": {
   "display_name": "Python 3 (ipykernel)",
   "language": "python",
   "name": "python3"
  },
  "language_info": {
   "codemirror_mode": {
    "name": "ipython",
    "version": 3
   },
   "file_extension": ".py",
   "mimetype": "text/x-python",
   "name": "python",
   "nbconvert_exporter": "python",
   "pygments_lexer": "ipython3",
   "version": "3.11.5"
  }
 },
 "nbformat": 4,
 "nbformat_minor": 5
}
