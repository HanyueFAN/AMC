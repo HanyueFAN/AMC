{
 "cells": [
  {
   "cell_type": "code",
   "execution_count": 1,
   "id": "474213e2",
   "metadata": {
    "ExecuteTime": {
     "end_time": "2023-10-12T07:44:02.360829Z",
     "start_time": "2023-10-12T07:44:02.214857Z"
    }
   },
   "outputs": [],
   "source": [
    "import h5py"
   ]
  },
  {
   "cell_type": "code",
   "execution_count": 2,
   "id": "565ee9d6",
   "metadata": {
    "ExecuteTime": {
     "end_time": "2023-10-12T07:44:04.973648Z",
     "start_time": "2023-10-12T07:44:04.969335Z"
    }
   },
   "outputs": [],
   "source": [
    "hdf5_file = h5py.File('/Users/fhy/isep3th/project/dataprocess/2018.01/GOLD_XYZ_OSC.0001_1024.hdf5', 'r')"
   ]
  },
  {
   "cell_type": "code",
   "execution_count": 3,
   "id": "aa56dc78",
   "metadata": {
    "ExecuteTime": {
     "end_time": "2023-10-12T07:44:07.907864Z",
     "start_time": "2023-10-12T07:44:07.900537Z"
    }
   },
   "outputs": [],
   "source": [
    "dataset_names = list(hdf5_file.keys())"
   ]
  },
  {
   "cell_type": "code",
   "execution_count": 4,
   "id": "8b2f88af",
   "metadata": {
    "ExecuteTime": {
     "end_time": "2023-10-12T07:44:08.400748Z",
     "start_time": "2023-10-12T07:44:08.396719Z"
    }
   },
   "outputs": [
    {
     "name": "stdout",
     "output_type": "stream",
     "text": [
      "['X', 'Y', 'Z']\n"
     ]
    }
   ],
   "source": [
    "print(dataset_names)"
   ]
  },
  {
   "cell_type": "code",
   "execution_count": 5,
   "id": "0ee481df",
   "metadata": {
    "ExecuteTime": {
     "end_time": "2023-10-12T07:44:09.680830Z",
     "start_time": "2023-10-12T07:44:09.673653Z"
    }
   },
   "outputs": [],
   "source": [
    "dataset_X = hdf5_file['X']\n",
    "dataset_Y = hdf5_file['Y']\n",
    "dataset_Z = hdf5_file['Z']"
   ]
  },
  {
   "cell_type": "code",
   "execution_count": 6,
   "id": "3c3125cf",
   "metadata": {
    "ExecuteTime": {
     "end_time": "2023-10-12T07:44:10.209392Z",
     "start_time": "2023-10-12T07:44:10.204317Z"
    }
   },
   "outputs": [],
   "source": [
    "data_type_x = dataset_X.dtype\n",
    "data_type_y = dataset_Y.dtype\n",
    "data_type_z = dataset_Z.dtype"
   ]
  },
  {
   "cell_type": "code",
   "execution_count": 7,
   "id": "6d6712c7",
   "metadata": {
    "ExecuteTime": {
     "end_time": "2023-10-12T07:44:10.774228Z",
     "start_time": "2023-10-12T07:44:10.766578Z"
    }
   },
   "outputs": [
    {
     "name": "stdout",
     "output_type": "stream",
     "text": [
      "Data type of dataset X: float32\n",
      "Data type of dataset X: int64\n",
      "Data type of dataset X: int64\n"
     ]
    }
   ],
   "source": [
    "print(f'Data type of dataset X: {data_type_x}')\n",
    "print(f'Data type of dataset X: {data_type_y}')\n",
    "print(f'Data type of dataset X: {data_type_z}')"
   ]
  },
  {
   "cell_type": "code",
   "execution_count": 8,
   "id": "fb50763c",
   "metadata": {
    "ExecuteTime": {
     "end_time": "2023-10-12T07:44:44.098511Z",
     "start_time": "2023-10-12T07:44:43.004817Z"
    }
   },
   "outputs": [],
   "source": [
    "import torch"
   ]
  },
  {
   "cell_type": "code",
   "execution_count": 9,
   "id": "46ba236a",
   "metadata": {
    "ExecuteTime": {
     "end_time": "2023-10-12T07:44:55.945016Z",
     "start_time": "2023-10-12T07:44:45.235315Z"
    }
   },
   "outputs": [],
   "source": [
    "data_tensor_x = torch.Tensor(dataset_X[:])"
   ]
  },
  {
   "cell_type": "code",
   "execution_count": 10,
   "id": "ac6ad3a7",
   "metadata": {
    "ExecuteTime": {
     "end_time": "2023-10-12T07:44:56.265501Z",
     "start_time": "2023-10-12T07:44:55.966682Z"
    }
   },
   "outputs": [],
   "source": [
    "data_tensor_y = torch.from_numpy(dataset_Y[:]).long()\n",
    "data_tensor_z = torch.from_numpy(dataset_Z[:]).long()"
   ]
  },
  {
   "cell_type": "code",
   "execution_count": 15,
   "id": "7b081785",
   "metadata": {
    "ExecuteTime": {
     "end_time": "2023-10-12T08:02:30.633688Z",
     "start_time": "2023-10-12T08:02:30.618597Z"
    }
   },
   "outputs": [
    {
     "name": "stdout",
     "output_type": "stream",
     "text": [
      "Tensor Dataset_X Information:\n",
      "--------------------------\n",
      "Data type: torch.FloatTensor\n",
      "Data shape: torch.Size([2555904, 1024, 2])\n",
      "Number of elements: 5234491392\n",
      "First few data elements:\n",
      "tensor([[[ 0.0420,  0.2348],\n",
      "         [-0.2729,  0.4051],\n",
      "         [-0.2671,  0.2275],\n",
      "         ...,\n",
      "         [-0.7056, -0.2869],\n",
      "         [-0.4116,  0.6683],\n",
      "         [ 0.0649,  0.6358]],\n",
      "\n",
      "        [[ 1.1986,  0.4494],\n",
      "         [ 0.4854,  0.2827],\n",
      "         [ 0.8679, -0.3319],\n",
      "         ...,\n",
      "         [-1.2129, -0.6429],\n",
      "         [-0.3810,  0.7936],\n",
      "         [ 0.0864,  1.0922]]])\n"
     ]
    }
   ],
   "source": [
    "# Inspect attributes and basic information\n",
    "print(\"Tensor Dataset_X Information:\")\n",
    "print(\"--------------------------\")\n",
    "\n",
    "# Check the data type of the tensor dataset\n",
    "print(f\"Data type: {data_tensor_x.type()}\")\n",
    "\n",
    "# Get the shape (dimensions) of the data\n",
    "print(f\"Data shape: {data_tensor_x.shape}\")\n",
    "\n",
    "# Check the number of elements in the dataset\n",
    "print(f\"Number of elements: {data_tensor_x.numel()}\")\n",
    "\n",
    "# Access the first few elements of the data\n",
    "print(\"First few data elements:\")\n",
    "print(data_tensor_x[:2])"
   ]
  },
  {
   "cell_type": "code",
   "execution_count": 16,
   "id": "e3cd1f72",
   "metadata": {
    "ExecuteTime": {
     "end_time": "2023-10-12T08:02:31.490303Z",
     "start_time": "2023-10-12T08:02:31.486179Z"
    }
   },
   "outputs": [
    {
     "name": "stdout",
     "output_type": "stream",
     "text": [
      "Tensor Dataset_Y Information:\n",
      "--------------------------\n",
      "Data type: torch.LongTensor\n",
      "Data shape: torch.Size([2555904, 24])\n",
      "Number of elements: 61341696\n",
      "First few data elements:\n",
      "tensor([[1, 0, 0, 0, 0, 0, 0, 0, 0, 0, 0, 0, 0, 0, 0, 0, 0, 0, 0, 0, 0, 0, 0, 0],\n",
      "        [1, 0, 0, 0, 0, 0, 0, 0, 0, 0, 0, 0, 0, 0, 0, 0, 0, 0, 0, 0, 0, 0, 0, 0]])\n"
     ]
    }
   ],
   "source": [
    "# Inspect attributes and basic information\n",
    "print(\"Tensor Dataset_Y Information:\")\n",
    "print(\"--------------------------\")\n",
    "\n",
    "# Check the data type of the tensor dataset\n",
    "print(f\"Data type: {data_tensor_y.type()}\")\n",
    "\n",
    "# Get the shape (dimensions) of the data\n",
    "print(f\"Data shape: {data_tensor_y.shape}\")\n",
    "\n",
    "# Check the number of elements in the dataset\n",
    "print(f\"Number of elements: {data_tensor_y.numel()}\")\n",
    "\n",
    "# Access the first few elements of the data\n",
    "print(\"First few data elements:\")\n",
    "print(data_tensor_y[:2:])"
   ]
  },
  {
   "cell_type": "code",
   "execution_count": 17,
   "id": "31b0b3c8",
   "metadata": {
    "ExecuteTime": {
     "end_time": "2023-10-12T08:02:32.078279Z",
     "start_time": "2023-10-12T08:02:32.073177Z"
    }
   },
   "outputs": [
    {
     "name": "stdout",
     "output_type": "stream",
     "text": [
      "Tensor Dataset_Z Information:\n",
      "--------------------------\n",
      "Data type: torch.LongTensor\n",
      "Data shape: torch.Size([2555904, 1])\n",
      "Number of elements: 2555904\n",
      "First few data elements:\n",
      "tensor([[-20],\n",
      "        [-20]])\n"
     ]
    }
   ],
   "source": [
    "# Inspect attributes and basic information\n",
    "print(\"Tensor Dataset_Z Information:\")\n",
    "print(\"--------------------------\")\n",
    "\n",
    "# Check the data type of the tensor dataset\n",
    "print(f\"Data type: {data_tensor_z.type()}\")\n",
    "\n",
    "# Get the shape (dimensions) of the data\n",
    "print(f\"Data shape: {data_tensor_z.shape}\")\n",
    "\n",
    "# Check the number of elements in the dataset\n",
    "print(f\"Number of elements: {data_tensor_z.numel()}\")\n",
    "\n",
    "# Access the first few elements of the data\n",
    "print(\"First few data elements:\")\n",
    "print(data_tensor_z[:2])"
   ]
  },
  {
   "cell_type": "code",
   "execution_count": 18,
   "outputs": [],
   "source": [
    "from torch.utils.data import TensorDataset"
   ],
   "metadata": {
    "collapsed": false,
    "ExecuteTime": {
     "end_time": "2023-10-12T08:02:32.881353Z",
     "start_time": "2023-10-12T08:02:32.878528Z"
    }
   }
  },
  {
   "cell_type": "code",
   "execution_count": 19,
   "outputs": [],
   "source": [
    "dataset = TensorDataset(data_tensor_x, data_tensor_y, data_tensor_z)"
   ],
   "metadata": {
    "collapsed": false,
    "ExecuteTime": {
     "end_time": "2023-10-12T08:02:33.416930Z",
     "start_time": "2023-10-12T08:02:33.412400Z"
    }
   }
  },
  {
   "cell_type": "code",
   "execution_count": 20,
   "outputs": [],
   "source": [
    "total_size = len(dataset)\n",
    "train_size = int(0.6 * total_size)\n",
    "val_size = int(0.2 * total_size)\n",
    "test_size = total_size - train_size - val_size"
   ],
   "metadata": {
    "collapsed": false,
    "ExecuteTime": {
     "end_time": "2023-10-12T08:02:33.950227Z",
     "start_time": "2023-10-12T08:02:33.946356Z"
    }
   }
  },
  {
   "cell_type": "code",
   "execution_count": 21,
   "outputs": [],
   "source": [
    "from torch.utils.data import random_split\n",
    "\n",
    "train_dataset, val_dataset, test_dataset = random_split(dataset, [train_size, val_size, test_size])"
   ],
   "metadata": {
    "collapsed": false,
    "ExecuteTime": {
     "end_time": "2023-10-12T08:02:55.486967Z",
     "start_time": "2023-10-12T08:02:55.422568Z"
    }
   }
  },
  {
   "cell_type": "code",
   "execution_count": 22,
   "outputs": [],
   "source": [
    "from torch.utils.data import DataLoader\n",
    "\n",
    "batch_size = 64  # Adjust as needed\n",
    "train_loader = DataLoader(train_dataset, batch_size=batch_size, shuffle=True)\n",
    "val_loader = DataLoader(val_dataset, batch_size=batch_size)\n",
    "test_loader = DataLoader(test_dataset, batch_size=batch_size)"
   ],
   "metadata": {
    "collapsed": false,
    "ExecuteTime": {
     "end_time": "2023-10-12T08:03:17.982489Z",
     "start_time": "2023-10-12T08:03:17.975896Z"
    }
   }
  },
  {
   "cell_type": "code",
   "execution_count": null,
   "outputs": [
    {
     "name": "stderr",
     "output_type": "stream",
     "text": [
      "Calculating Mean and Std:   0%|          | 0/2555904 [00:00<?, ?samples/s]"
     ]
    }
   ],
   "source": [
    "import torch\n",
    "from tqdm import tqdm\n",
    "\n",
    "data = data_tensor_x\n",
    "\n",
    "# Initialize a progress bar for the calculation of mean and standard deviation\n",
    "progress_bar_calculation = tqdm(total=len(data), unit=\"samples\", desc=\"Calculating Mean and Std\")\n",
    "\n",
    "# Initialize accumulators for mean and standard deviation\n",
    "mean_accumulator = 0.0\n",
    "std_accumulator = 0.0\n",
    "\n",
    "for sample in data:\n",
    "    # Update the calculation progress bar\n",
    "    progress_bar_calculation.update(1)\n",
    "\n",
    "    # Calculate mean and standard deviation incrementally\n",
    "    mean_accumulator += sample.mean().item()\n",
    "    std_accumulator += sample.std().item()\n",
    "\n",
    "# Finalize the calculation progress bar\n",
    "progress_bar_calculation.close()"
   ],
   "metadata": {
    "collapsed": false,
    "is_executing": true,
    "ExecuteTime": {
     "start_time": "2023-10-12T08:03:26.931160Z"
    }
   }
  },
  {
   "cell_type": "code",
   "execution_count": null,
   "outputs": [],
   "source": [
    "mean = mean_accumulator / len(data)\n",
    "std = std_accumulator / len(data)"
   ],
   "metadata": {
    "collapsed": false,
    "is_executing": true
   }
  },
  {
   "cell_type": "code",
   "execution_count": null,
   "outputs": [],
   "source": [
    "# Initialize a new progress bar for the normalization step\n",
    "progress_bar_normalization = tqdm(total=len(data), unit=\"samples\", desc=\"Normalizing Data\")\n",
    "\n",
    "# Initialize an empty tensor for the normalized data\n",
    "normalized_data = torch.empty(data.shape)\n",
    "\n",
    "for i, sample in enumerate(data):\n",
    "    # Update the normalization progress bar\n",
    "    progress_bar_normalization.update(1)\n",
    "\n",
    "    # Normalize the sample\n",
    "    normalized_data[i] = (sample - mean) / std\n",
    "\n",
    "# Finalize the normalization progress bar\n",
    "progress_bar_normalization.close()"
   ],
   "metadata": {
    "collapsed": false,
    "is_executing": true
   }
  },
  {
   "cell_type": "code",
   "execution_count": null,
   "outputs": [],
   "source": [
    "print(\"First few data elements:\")\n",
    "print(normalized_data[:2])"
   ],
   "metadata": {
    "collapsed": false,
    "is_executing": true
   }
  }
 ],
 "metadata": {
  "kernelspec": {
   "display_name": "Python 3 (ipykernel)",
   "language": "python",
   "name": "python3"
  },
  "language_info": {
   "codemirror_mode": {
    "name": "ipython",
    "version": 3
   },
   "file_extension": ".py",
   "mimetype": "text/x-python",
   "name": "python",
   "nbconvert_exporter": "python",
   "pygments_lexer": "ipython3",
   "version": "3.11.5"
  }
 },
 "nbformat": 4,
 "nbformat_minor": 5
}
