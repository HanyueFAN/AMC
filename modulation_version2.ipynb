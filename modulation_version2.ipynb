{
 "cells": [
  {
   "cell_type": "code",
   "execution_count": 38,
   "metadata": {
    "collapsed": true,
    "ExecuteTime": {
     "end_time": "2023-11-29T22:59:50.122411Z",
     "start_time": "2023-11-29T22:59:50.098830700Z"
    }
   },
   "outputs": [],
   "source": [
    "from sklearn.model_selection import train_test_split\n",
    "from ast import literal_eval\n",
    "from torch.utils.data import Dataset, DataLoader\n",
    "import torch\n",
    "import h5py\n",
    "from torch.utils.data import DataLoader, TensorDataset, random_split"
   ]
  },
  {
   "cell_type": "code",
   "execution_count": 39,
   "outputs": [],
   "source": [
    "file_path = 'F:\\ISEP_Learning_Document\\Semester3\\End-of-track Project\\dataset\\data_raw\\GOLD_XYZ_OSC.0001_1024.hdf5'"
   ],
   "metadata": {
    "collapsed": false,
    "ExecuteTime": {
     "end_time": "2023-11-29T22:59:50.327030600Z",
     "start_time": "2023-11-29T22:59:50.321064800Z"
    }
   }
  },
  {
   "cell_type": "code",
   "execution_count": 40,
   "outputs": [],
   "source": [
    "# Open my file in read mode\n",
    "file_raw = h5py.File(file_path,'r')"
   ],
   "metadata": {
    "collapsed": false,
    "ExecuteTime": {
     "end_time": "2023-11-29T22:59:50.532385900Z",
     "start_time": "2023-11-29T22:59:50.500679600Z"
    }
   }
  },
  {
   "cell_type": "code",
   "execution_count": 41,
   "outputs": [],
   "source": [
    "# access the datasets within the HDF5 File\n",
    "data_raw_x = file_raw['X'][:]\n",
    "data_raw_y = file_raw['Y'][:]\n",
    "data_raw_z = file_raw['Z'][:]"
   ],
   "metadata": {
    "collapsed": false,
    "ExecuteTime": {
     "end_time": "2023-11-29T23:00:35.060685Z",
     "start_time": "2023-11-29T22:59:50.672644400Z"
    }
   }
  },
  {
   "cell_type": "code",
   "execution_count": 43,
   "outputs": [],
   "source": [
    "# Convert the hdf5 dataset to a PyTorch tensor\n",
    "X_tensor = torch.from_numpy(data_raw_x).float()\n",
    "Y_tensor = torch.from_numpy(data_raw_y).long()\n",
    "Z_tensor = torch.from_numpy(data_raw_z).long()"
   ],
   "metadata": {
    "collapsed": false,
    "ExecuteTime": {
     "end_time": "2023-11-29T23:00:36.417828300Z",
     "start_time": "2023-11-29T23:00:35.134976400Z"
    }
   }
  },
  {
   "cell_type": "code",
   "execution_count": 44,
   "outputs": [
    {
     "name": "stdout",
     "output_type": "stream",
     "text": [
      "Tensor Dataset_X Information:\n",
      "--------------------------\n",
      "Data type: torch.FloatTensor\n",
      "Data shape: torch.Size([2555904, 1024, 2])\n",
      "Number of elements: 5234491392\n",
      "First few data elements:\n",
      "tensor([[[ 0.0420,  0.2348],\n",
      "         [-0.2729,  0.4051],\n",
      "         [-0.2671,  0.2275],\n",
      "         ...,\n",
      "         [-0.7056, -0.2869],\n",
      "         [-0.4116,  0.6683],\n",
      "         [ 0.0649,  0.6358]],\n",
      "\n",
      "        [[ 1.1986,  0.4494],\n",
      "         [ 0.4854,  0.2827],\n",
      "         [ 0.8679, -0.3319],\n",
      "         ...,\n",
      "         [-1.2129, -0.6429],\n",
      "         [-0.3810,  0.7936],\n",
      "         [ 0.0864,  1.0922]],\n",
      "\n",
      "        [[-0.2235,  0.1814],\n",
      "         [ 0.0620, -0.9343],\n",
      "         [ 0.7195,  0.2179],\n",
      "         ...,\n",
      "         [ 0.7599,  0.0082],\n",
      "         [ 0.3397,  0.1293],\n",
      "         [ 0.5823,  0.1078]],\n",
      "\n",
      "        ...,\n",
      "\n",
      "        [[-0.2001,  1.0368],\n",
      "         [-0.4378, -0.9239],\n",
      "         [-1.3281, -0.3239],\n",
      "         ...,\n",
      "         [ 0.3032,  1.0953],\n",
      "         [-1.2550,  0.7407],\n",
      "         [-0.9081,  0.3837]],\n",
      "\n",
      "        [[ 0.5385, -0.7164],\n",
      "         [ 0.1019,  0.4777],\n",
      "         [-0.0316,  0.2063],\n",
      "         ...,\n",
      "         [ 1.4347,  0.4845],\n",
      "         [-0.0778,  0.0523],\n",
      "         [ 1.2051, -0.0068]],\n",
      "\n",
      "        [[-0.0953,  0.2471],\n",
      "         [-1.8387, -0.4583],\n",
      "         [-0.3410,  0.6197],\n",
      "         ...,\n",
      "         [-0.0165, -1.1036],\n",
      "         [ 1.6031, -0.6724],\n",
      "         [-0.2276, -0.3404]]])\n"
     ]
    }
   ],
   "source": [
    "# The information about dataset X\n",
    "print(\"Tensor Dataset_X Information:\")\n",
    "print(\"--------------------------\")\n",
    "\n",
    "# Check the data type of the tensor dataset\n",
    "print(f\"Data type: {X_tensor.type()}\")\n",
    "\n",
    "# Get the shape (dimensions) of the data\n",
    "print(f\"Data shape: {X_tensor.shape}\")\n",
    "\n",
    "# Check the number of elements in the dataset\n",
    "print(f\"Number of elements: {X_tensor.numel()}\")\n",
    "\n",
    "# Access the first few elements of the data\n",
    "print(\"First few data elements:\")\n",
    "print(X_tensor[:20])"
   ],
   "metadata": {
    "collapsed": false,
    "ExecuteTime": {
     "end_time": "2023-11-29T23:00:36.524189800Z",
     "start_time": "2023-11-29T23:00:36.459789600Z"
    }
   }
  },
  {
   "cell_type": "code",
   "execution_count": 45,
   "outputs": [
    {
     "name": "stdout",
     "output_type": "stream",
     "text": [
      "Tensor Dataset_Y Information:\n",
      "--------------------------\n",
      "Data type: torch.LongTensor\n",
      "Data shape: torch.Size([2555904, 24])\n",
      "Number of elements: 61341696\n",
      "First few data elements:\n",
      "tensor([[1, 0, 0, 0, 0, 0, 0, 0, 0, 0, 0, 0, 0, 0, 0, 0, 0, 0, 0, 0, 0, 0, 0, 0],\n",
      "        [1, 0, 0, 0, 0, 0, 0, 0, 0, 0, 0, 0, 0, 0, 0, 0, 0, 0, 0, 0, 0, 0, 0, 0]])\n"
     ]
    }
   ],
   "source": [
    "# The information about dataset Y\n",
    "print(\"Tensor Dataset_Y Information:\")\n",
    "print(\"--------------------------\")\n",
    "\n",
    "# Check the data type of the tensor dataset\n",
    "print(f\"Data type: {Y_tensor.type()}\")\n",
    "\n",
    "# Get the shape (dimensions) of the data\n",
    "print(f\"Data shape: {Y_tensor.shape}\")\n",
    "\n",
    "# Check the number of elements in the dataset\n",
    "print(f\"Number of elements: {Y_tensor.numel()}\")\n",
    "\n",
    "# Access the first few elements of the data\n",
    "print(\"First few data elements:\")\n",
    "print(Y_tensor[:2])"
   ],
   "metadata": {
    "collapsed": false,
    "ExecuteTime": {
     "end_time": "2023-11-29T23:00:36.539421200Z",
     "start_time": "2023-11-29T23:00:36.526190700Z"
    }
   }
  },
  {
   "cell_type": "code",
   "execution_count": 46,
   "outputs": [
    {
     "name": "stdout",
     "output_type": "stream",
     "text": [
      "Tensor Dataset_Z Information:\n",
      "--------------------------\n",
      "Data type: torch.LongTensor\n",
      "Data shape: torch.Size([2555904, 1])\n",
      "Number of elements: 2555904\n",
      "First few data elements:\n",
      "tensor([[-20],\n",
      "        [-20]])\n"
     ]
    }
   ],
   "source": [
    "# The information about dataset Z\n",
    "print(\"Tensor Dataset_Z Information:\")\n",
    "print(\"--------------------------\")\n",
    "\n",
    "# Check the data type of the tensor dataset\n",
    "print(f\"Data type: {Z_tensor.type()}\")\n",
    "\n",
    "# Get the shape (dimensions) of the data\n",
    "print(f\"Data shape: {Z_tensor.shape}\")\n",
    "\n",
    "# Check the number of elements in the dataset\n",
    "print(f\"Number of elements: {Z_tensor.numel()}\")\n",
    "\n",
    "# Access the first few elements of the data\n",
    "print(\"First few data elements:\")\n",
    "print(Z_tensor[:2])"
   ],
   "metadata": {
    "collapsed": false,
    "ExecuteTime": {
     "end_time": "2023-11-29T23:00:38.258302600Z",
     "start_time": "2023-11-29T23:00:36.543429Z"
    }
   }
  },
  {
   "cell_type": "code",
   "execution_count": 47,
   "outputs": [],
   "source": [
    "# Expand Z_tensor to match the dimensions of X_tensor\n",
    "Z_tensor_expanded = Z_tensor.unsqueeze(-1).expand(-1, X_tensor.shape[1], X_tensor.shape[2])"
   ],
   "metadata": {
    "collapsed": false,
    "ExecuteTime": {
     "end_time": "2023-11-29T23:00:38.288322100Z",
     "start_time": "2023-11-29T23:00:36.564300900Z"
    }
   }
  },
  {
   "cell_type": "code",
   "execution_count": 48,
   "outputs": [],
   "source": [
    "# Concatenate X_tensor and Z_tensor_expanded along the last dimension\n",
    "XZ_combined = torch.cat([X_tensor, Z_tensor_expanded], dim=2)"
   ],
   "metadata": {
    "collapsed": false,
    "ExecuteTime": {
     "end_time": "2023-11-29T23:10:07.654944100Z",
     "start_time": "2023-11-29T23:00:36.588300300Z"
    }
   }
  },
  {
   "cell_type": "code",
   "execution_count": 50,
   "outputs": [
    {
     "name": "stdout",
     "output_type": "stream",
     "text": [
      "Tensor XZ_combined Information:\n",
      "--------------------------\n",
      "Data type: torch.FloatTensor\n",
      "Data shape: torch.Size([2555904, 1024, 4])\n",
      "Number of elements: 10468982784\n",
      "First few data elements:\n",
      "tensor([[[  0.0420,   0.2348, -20.0000, -20.0000],\n",
      "         [ -0.2729,   0.4051, -20.0000, -20.0000],\n",
      "         [ -0.2671,   0.2275, -20.0000, -20.0000],\n",
      "         ...,\n",
      "         [ -0.7056,  -0.2869, -20.0000, -20.0000],\n",
      "         [ -0.4116,   0.6683, -20.0000, -20.0000],\n",
      "         [  0.0649,   0.6358, -20.0000, -20.0000]],\n",
      "\n",
      "        [[  1.1986,   0.4494, -20.0000, -20.0000],\n",
      "         [  0.4854,   0.2827, -20.0000, -20.0000],\n",
      "         [  0.8679,  -0.3319, -20.0000, -20.0000],\n",
      "         ...,\n",
      "         [ -1.2129,  -0.6429, -20.0000, -20.0000],\n",
      "         [ -0.3810,   0.7936, -20.0000, -20.0000],\n",
      "         [  0.0864,   1.0922, -20.0000, -20.0000]]])\n"
     ]
    }
   ],
   "source": [
    "# The information about dataset XZ_combined\n",
    "print(\"Tensor XZ_combined Information:\")\n",
    "print(\"--------------------------\")\n",
    "\n",
    "# Check the data type of the tensor dataset\n",
    "print(f\"Data type: {XZ_combined.type()}\")\n",
    "\n",
    "# Get the shape (dimensions) of the data\n",
    "print(f\"Data shape: {XZ_combined.shape}\")\n",
    "\n",
    "# Check the number of elements in the dataset\n",
    "print(f\"Number of elements: {XZ_combined.numel()}\")\n",
    "\n",
    "# Access the first few elements of the data\n",
    "print(\"First few data elements:\")\n",
    "print(XZ_combined[:2])"
   ],
   "metadata": {
    "collapsed": false,
    "ExecuteTime": {
     "end_time": "2023-11-29T23:10:46.074668200Z",
     "start_time": "2023-11-29T23:10:46.039655100Z"
    }
   }
  },
  {
   "cell_type": "code",
   "execution_count": 51,
   "outputs": [
    {
     "name": "stdout",
     "output_type": "stream",
     "text": [
      "Training set size: 1533542\n",
      "Validation set size: 511181\n",
      "Test set size: 511181\n"
     ]
    }
   ],
   "source": [
    "# Split the dataset ：60% trainset，40% temporary set\n",
    "X_train, X_temp, Y_train, Y_temp = train_test_split(XZ_combined, Y_tensor, test_size=0.4, random_state=42)\n",
    "\n",
    "# Split temporaryset ：50% validation dataset，50% testset\n",
    "X_val, X_test, Y_val, Y_test = train_test_split(X_temp, Y_temp, test_size=0.5, random_state=42)\n",
    "\n",
    "# check\n",
    "print(\"Training set size:\", X_train.shape[0])\n",
    "print(\"Validation set size:\", X_val.shape[0])\n",
    "print(\"Test set size:\", X_test.shape[0])"
   ],
   "metadata": {
    "collapsed": false,
    "ExecuteTime": {
     "end_time": "2023-11-29T23:30:42.942754800Z",
     "start_time": "2023-11-29T23:14:04.466356800Z"
    }
   }
  },
  {
   "cell_type": "code",
   "execution_count": 52,
   "outputs": [],
   "source": [
    "class CustomDataset(Dataset):\n",
    "    def __init__(self, features, labels):\n",
    "        self.features = features\n",
    "        self.labels = labels\n",
    "\n",
    "    def __len__(self):\n",
    "        return len(self.labels)\n",
    "\n",
    "    def __getitem__(self, idx):\n",
    "        return self.features[idx], self.labels[idx]\n",
    "\n",
    "train_dataset = CustomDataset(X_train, Y_train)\n",
    "val_dataset = CustomDataset(X_val, Y_val)\n",
    "test_dataset = CustomDataset(X_test, Y_test)\n",
    "\n",
    "train_loader = DataLoader(train_dataset, batch_size=64, shuffle=True)\n",
    "val_loader = DataLoader(val_dataset, batch_size=64, shuffle=False)\n",
    "test_loader = DataLoader(test_dataset, batch_size=64, shuffle=False)"
   ],
   "metadata": {
    "collapsed": false,
    "ExecuteTime": {
     "end_time": "2023-11-29T23:40:26.486614400Z",
     "start_time": "2023-11-29T23:40:26.434484500Z"
    }
   }
  },
  {
   "cell_type": "code",
   "execution_count": 58,
   "outputs": [],
   "source": [
    "import torch.nn as nn\n",
    "\n",
    "class ModulationCNN(nn.Module):\n",
    "    def __init__(self, num_features, n_classes, input_length=1024):\n",
    "        super().__init__()\n",
    "\n",
    "        self.conv1 = nn.Conv1d(in_channels=num_features, out_channels=48, kernel_size=2, stride=2)\n",
    "        self.batchnorm1 = nn.BatchNorm1d(48)\n",
    "        self.conv2 = nn.Conv1d(in_channels=48, out_channels=48, kernel_size=2, stride=2)\n",
    "        self.batchnorm2 = nn.BatchNorm1d(48)\n",
    "        self.conv3 = nn.Conv1d(in_channels=48, out_channels=24, kernel_size=1, stride=1)\n",
    "        self.batchnorm3 = nn.BatchNorm1d(24)\n",
    "        self.flatten = nn.Flatten()\n",
    "\n",
    "        # Calculate the input size of the fully connected layer\n",
    "        flattened_size = self._compute_flattened_size(input_length, num_features)\n",
    "\n",
    "        self.fc1 = nn.Linear(flattened_size, 120)\n",
    "        self.batchnorm_fc1 = nn.BatchNorm1d(120)\n",
    "        self.fc2 = nn.Linear(120, n_classes)\n",
    "\n",
    "        self.af = nn.ReLU()\n",
    "        self.af_out = nn.Softmax(dim=1)\n",
    "\n",
    "    def _compute_flattened_size(self, input_length, num_features):\n",
    "        # Temporary tensor used to calculate the flattened dimensions\n",
    "        temp_tensor = torch.zeros(1, num_features, input_length)\n",
    "\n",
    "        # Through convolutional layers but excluding fully connected layers\n",
    "        temp_tensor = self.conv1(temp_tensor)\n",
    "        temp_tensor = self.batchnorm1(temp_tensor)\n",
    "        temp_tensor = self.conv2(temp_tensor)\n",
    "        temp_tensor = self.batchnorm2(temp_tensor)\n",
    "        temp_tensor = self.conv3(temp_tensor)\n",
    "        temp_tensor = self.batchnorm3(temp_tensor)\n",
    "        temp_tensor = self.flatten(temp_tensor)\n",
    "\n",
    "        # Returns the total number of features after flattening\n",
    "        return temp_tensor.nelement()\n",
    "\n",
    "    def forward(self, X):\n",
    "        x = self.conv1(X.permute(0,2,1))\n",
    "        x = self.af(self.batchnorm1(x))\n",
    "        x = self.conv2(x)\n",
    "        x = self.af(self.batchnorm2(x))\n",
    "        x = self.conv3(x)\n",
    "        x = self.af(self.batchnorm3(x))\n",
    "        x = x.view(x.size(0), -1)  # Flatten\n",
    "        x = self.fc1(x)\n",
    "        x = self.af(self.batchnorm_fc1(x))\n",
    "        x = self.fc2(x)\n",
    "        x = self.af_out(x)\n",
    "        return x\n",
    "\n",
    "\n",
    "model = ModulationCNN(num_features=4, n_classes=24)"
   ],
   "metadata": {
    "collapsed": false,
    "ExecuteTime": {
     "end_time": "2023-11-30T00:00:49.893190300Z",
     "start_time": "2023-11-30T00:00:49.864142Z"
    }
   }
  },
  {
   "cell_type": "code",
   "execution_count": 59,
   "outputs": [],
   "source": [
    "import torch\n",
    "import torch.nn as nn\n",
    "import torch.optim as optim\n",
    "\n",
    "\n",
    "criterion = nn.CrossEntropyLoss()\n",
    "optimizer = optim.Adam(model.parameters(), lr=0.001)"
   ],
   "metadata": {
    "collapsed": false,
    "ExecuteTime": {
     "end_time": "2023-11-30T00:00:51.416117300Z",
     "start_time": "2023-11-30T00:00:51.390137200Z"
    }
   }
  },
  {
   "cell_type": "code",
   "execution_count": 60,
   "outputs": [
    {
     "name": "stderr",
     "output_type": "stream",
     "text": [
      "Epoch 1/10 [Train]: 100%|██████████| 23962/23962 [35:36<00:00, 11.21it/s, acc=0.284, loss=2.96]\n",
      "Epoch 1/10 [Val]: 100%|██████████| 7988/7988 [03:25<00:00, 38.80it/s, acc=0.259, loss=2.98]\n",
      "Epoch 2/10 [Train]: 100%|██████████| 23962/23962 [39:26<00:00, 10.13it/s, acc=0.346, loss=2.9]  \n",
      "Epoch 2/10 [Val]:  62%|██████▏   | 4986/7988 [01:43<01:02, 48.40it/s, acc=0.237, loss=3.01]\n"
     ]
    },
    {
     "ename": "KeyboardInterrupt",
     "evalue": "",
     "output_type": "error",
     "traceback": [
      "\u001B[1;31m---------------------------------------------------------------------------\u001B[0m",
      "\u001B[1;31mKeyboardInterrupt\u001B[0m                         Traceback (most recent call last)",
      "Cell \u001B[1;32mIn[60], line 41\u001B[0m\n\u001B[0;32m     39\u001B[0m \u001B[38;5;28;01mwith\u001B[39;00m torch\u001B[38;5;241m.\u001B[39mno_grad():\n\u001B[0;32m     40\u001B[0m     \u001B[38;5;28;01mfor\u001B[39;00m inputs, labels \u001B[38;5;129;01min\u001B[39;00m progress_bar_val:\n\u001B[1;32m---> 41\u001B[0m         outputs \u001B[38;5;241m=\u001B[39m \u001B[43mmodel\u001B[49m\u001B[43m(\u001B[49m\u001B[43minputs\u001B[49m\u001B[43m)\u001B[49m\n\u001B[0;32m     42\u001B[0m         loss \u001B[38;5;241m=\u001B[39m criterion(outputs, torch\u001B[38;5;241m.\u001B[39mmax(labels, \u001B[38;5;241m1\u001B[39m)[\u001B[38;5;241m1\u001B[39m])\n\u001B[0;32m     43\u001B[0m         running_val_loss \u001B[38;5;241m+\u001B[39m\u001B[38;5;241m=\u001B[39m loss\u001B[38;5;241m.\u001B[39mitem()\n",
      "File \u001B[1;32m~\\.conda\\envs\\modulation\\lib\\site-packages\\torch\\nn\\modules\\module.py:1501\u001B[0m, in \u001B[0;36mModule._call_impl\u001B[1;34m(self, *args, **kwargs)\u001B[0m\n\u001B[0;32m   1496\u001B[0m \u001B[38;5;66;03m# If we don't have any hooks, we want to skip the rest of the logic in\u001B[39;00m\n\u001B[0;32m   1497\u001B[0m \u001B[38;5;66;03m# this function, and just call forward.\u001B[39;00m\n\u001B[0;32m   1498\u001B[0m \u001B[38;5;28;01mif\u001B[39;00m \u001B[38;5;129;01mnot\u001B[39;00m (\u001B[38;5;28mself\u001B[39m\u001B[38;5;241m.\u001B[39m_backward_hooks \u001B[38;5;129;01mor\u001B[39;00m \u001B[38;5;28mself\u001B[39m\u001B[38;5;241m.\u001B[39m_backward_pre_hooks \u001B[38;5;129;01mor\u001B[39;00m \u001B[38;5;28mself\u001B[39m\u001B[38;5;241m.\u001B[39m_forward_hooks \u001B[38;5;129;01mor\u001B[39;00m \u001B[38;5;28mself\u001B[39m\u001B[38;5;241m.\u001B[39m_forward_pre_hooks\n\u001B[0;32m   1499\u001B[0m         \u001B[38;5;129;01mor\u001B[39;00m _global_backward_pre_hooks \u001B[38;5;129;01mor\u001B[39;00m _global_backward_hooks\n\u001B[0;32m   1500\u001B[0m         \u001B[38;5;129;01mor\u001B[39;00m _global_forward_hooks \u001B[38;5;129;01mor\u001B[39;00m _global_forward_pre_hooks):\n\u001B[1;32m-> 1501\u001B[0m     \u001B[38;5;28;01mreturn\u001B[39;00m forward_call(\u001B[38;5;241m*\u001B[39margs, \u001B[38;5;241m*\u001B[39m\u001B[38;5;241m*\u001B[39mkwargs)\n\u001B[0;32m   1502\u001B[0m \u001B[38;5;66;03m# Do not call functions when jit is used\u001B[39;00m\n\u001B[0;32m   1503\u001B[0m full_backward_hooks, non_full_backward_hooks \u001B[38;5;241m=\u001B[39m [], []\n",
      "Cell \u001B[1;32mIn[58], line 43\u001B[0m, in \u001B[0;36mModulationCNN.forward\u001B[1;34m(self, X)\u001B[0m\n\u001B[0;32m     41\u001B[0m \u001B[38;5;28;01mdef\u001B[39;00m \u001B[38;5;21mforward\u001B[39m(\u001B[38;5;28mself\u001B[39m, X):\n\u001B[0;32m     42\u001B[0m     x \u001B[38;5;241m=\u001B[39m \u001B[38;5;28mself\u001B[39m\u001B[38;5;241m.\u001B[39mconv1(X\u001B[38;5;241m.\u001B[39mpermute(\u001B[38;5;241m0\u001B[39m,\u001B[38;5;241m2\u001B[39m,\u001B[38;5;241m1\u001B[39m))\n\u001B[1;32m---> 43\u001B[0m     x \u001B[38;5;241m=\u001B[39m \u001B[38;5;28;43mself\u001B[39;49m\u001B[38;5;241;43m.\u001B[39;49m\u001B[43maf\u001B[49m\u001B[43m(\u001B[49m\u001B[38;5;28;43mself\u001B[39;49m\u001B[38;5;241;43m.\u001B[39;49m\u001B[43mbatchnorm1\u001B[49m\u001B[43m(\u001B[49m\u001B[43mx\u001B[49m\u001B[43m)\u001B[49m\u001B[43m)\u001B[49m\n\u001B[0;32m     44\u001B[0m     x \u001B[38;5;241m=\u001B[39m \u001B[38;5;28mself\u001B[39m\u001B[38;5;241m.\u001B[39mconv2(x)\n\u001B[0;32m     45\u001B[0m     x \u001B[38;5;241m=\u001B[39m \u001B[38;5;28mself\u001B[39m\u001B[38;5;241m.\u001B[39maf(\u001B[38;5;28mself\u001B[39m\u001B[38;5;241m.\u001B[39mbatchnorm2(x))\n",
      "File \u001B[1;32m~\\.conda\\envs\\modulation\\lib\\site-packages\\torch\\nn\\modules\\module.py:1501\u001B[0m, in \u001B[0;36mModule._call_impl\u001B[1;34m(self, *args, **kwargs)\u001B[0m\n\u001B[0;32m   1496\u001B[0m \u001B[38;5;66;03m# If we don't have any hooks, we want to skip the rest of the logic in\u001B[39;00m\n\u001B[0;32m   1497\u001B[0m \u001B[38;5;66;03m# this function, and just call forward.\u001B[39;00m\n\u001B[0;32m   1498\u001B[0m \u001B[38;5;28;01mif\u001B[39;00m \u001B[38;5;129;01mnot\u001B[39;00m (\u001B[38;5;28mself\u001B[39m\u001B[38;5;241m.\u001B[39m_backward_hooks \u001B[38;5;129;01mor\u001B[39;00m \u001B[38;5;28mself\u001B[39m\u001B[38;5;241m.\u001B[39m_backward_pre_hooks \u001B[38;5;129;01mor\u001B[39;00m \u001B[38;5;28mself\u001B[39m\u001B[38;5;241m.\u001B[39m_forward_hooks \u001B[38;5;129;01mor\u001B[39;00m \u001B[38;5;28mself\u001B[39m\u001B[38;5;241m.\u001B[39m_forward_pre_hooks\n\u001B[0;32m   1499\u001B[0m         \u001B[38;5;129;01mor\u001B[39;00m _global_backward_pre_hooks \u001B[38;5;129;01mor\u001B[39;00m _global_backward_hooks\n\u001B[0;32m   1500\u001B[0m         \u001B[38;5;129;01mor\u001B[39;00m _global_forward_hooks \u001B[38;5;129;01mor\u001B[39;00m _global_forward_pre_hooks):\n\u001B[1;32m-> 1501\u001B[0m     \u001B[38;5;28;01mreturn\u001B[39;00m forward_call(\u001B[38;5;241m*\u001B[39margs, \u001B[38;5;241m*\u001B[39m\u001B[38;5;241m*\u001B[39mkwargs)\n\u001B[0;32m   1502\u001B[0m \u001B[38;5;66;03m# Do not call functions when jit is used\u001B[39;00m\n\u001B[0;32m   1503\u001B[0m full_backward_hooks, non_full_backward_hooks \u001B[38;5;241m=\u001B[39m [], []\n",
      "File \u001B[1;32m~\\.conda\\envs\\modulation\\lib\\site-packages\\torch\\nn\\modules\\activation.py:103\u001B[0m, in \u001B[0;36mReLU.forward\u001B[1;34m(self, input)\u001B[0m\n\u001B[0;32m    102\u001B[0m \u001B[38;5;28;01mdef\u001B[39;00m \u001B[38;5;21mforward\u001B[39m(\u001B[38;5;28mself\u001B[39m, \u001B[38;5;28minput\u001B[39m: Tensor) \u001B[38;5;241m-\u001B[39m\u001B[38;5;241m>\u001B[39m Tensor:\n\u001B[1;32m--> 103\u001B[0m     \u001B[38;5;28;01mreturn\u001B[39;00m \u001B[43mF\u001B[49m\u001B[38;5;241;43m.\u001B[39;49m\u001B[43mrelu\u001B[49m\u001B[43m(\u001B[49m\u001B[38;5;28;43minput\u001B[39;49m\u001B[43m,\u001B[49m\u001B[43m \u001B[49m\u001B[43minplace\u001B[49m\u001B[38;5;241;43m=\u001B[39;49m\u001B[38;5;28;43mself\u001B[39;49m\u001B[38;5;241;43m.\u001B[39;49m\u001B[43minplace\u001B[49m\u001B[43m)\u001B[49m\n",
      "File \u001B[1;32m~\\.conda\\envs\\modulation\\lib\\site-packages\\torch\\nn\\functional.py:1457\u001B[0m, in \u001B[0;36mrelu\u001B[1;34m(input, inplace)\u001B[0m\n\u001B[0;32m   1455\u001B[0m     result \u001B[38;5;241m=\u001B[39m torch\u001B[38;5;241m.\u001B[39mrelu_(\u001B[38;5;28minput\u001B[39m)\n\u001B[0;32m   1456\u001B[0m \u001B[38;5;28;01melse\u001B[39;00m:\n\u001B[1;32m-> 1457\u001B[0m     result \u001B[38;5;241m=\u001B[39m \u001B[43mtorch\u001B[49m\u001B[38;5;241;43m.\u001B[39;49m\u001B[43mrelu\u001B[49m\u001B[43m(\u001B[49m\u001B[38;5;28;43minput\u001B[39;49m\u001B[43m)\u001B[49m\n\u001B[0;32m   1458\u001B[0m \u001B[38;5;28;01mreturn\u001B[39;00m result\n",
      "\u001B[1;31mKeyboardInterrupt\u001B[0m: "
     ]
    }
   ],
   "source": [
    "from tqdm import tqdm\n",
    "import torch.nn as nn\n",
    "# 训练过程\n",
    "n_epochs = 10  # 设置适当的迭代次数\n",
    "\n",
    "for epoch in range(n_epochs):\n",
    "    model.train()\n",
    "    running_train_loss = 0.0\n",
    "    running_train_acc = 0.0\n",
    "    progress_bar_train = tqdm(train_loader, desc=f'Epoch {epoch+1}/{n_epochs} [Train]')\n",
    "\n",
    "    for inputs, labels in progress_bar_train:\n",
    "        optimizer.zero_grad()\n",
    "\n",
    "        # forward propagation\n",
    "        outputs = model(inputs)\n",
    "        loss = criterion(outputs, torch.max(labels, 1)[1])\n",
    "        running_train_loss += loss.item()\n",
    "\n",
    "        # Backpropagation and optimization\n",
    "        loss.backward()\n",
    "        optimizer.step()\n",
    "\n",
    "        # Calculate training accuracy\n",
    "        _, predicted = torch.max(outputs.data, 1)\n",
    "        correct = (predicted == torch.max(labels, 1)[1]).float().sum().item()\n",
    "        running_train_acc += correct / labels.size(0)\n",
    "\n",
    "        # Update progress bar\n",
    "        progress_bar_train.set_postfix(loss=running_train_loss/(progress_bar_train.n+1),\n",
    "                                       acc=running_train_acc/(progress_bar_train.n+1))\n",
    "\n",
    "    model.eval()\n",
    "    running_val_loss = 0.0\n",
    "    running_val_acc = 0.0\n",
    "    progress_bar_val = tqdm(val_loader, desc=f'Epoch {epoch+1}/{n_epochs} [Val]')\n",
    "\n",
    "    with torch.no_grad():\n",
    "        for inputs, labels in progress_bar_val:\n",
    "            outputs = model(inputs)\n",
    "            loss = criterion(outputs, torch.max(labels, 1)[1])\n",
    "            running_val_loss += loss.item()\n",
    "\n",
    "            _, predicted = torch.max(outputs.data, 1)\n",
    "            correct = (predicted == torch.max(labels, 1)[1]).float().sum().item()\n",
    "            running_val_acc += correct / labels.size(0)\n",
    "\n",
    "            progress_bar_val.set_postfix(loss=running_val_loss/(progress_bar_val.n+1),\n",
    "                                         acc=running_val_acc/(progress_bar_val.n+1))"
   ],
   "metadata": {
    "collapsed": false,
    "ExecuteTime": {
     "end_time": "2023-11-30T01:21:08.508734700Z",
     "start_time": "2023-11-30T00:00:52.087009300Z"
    }
   }
  },
  {
   "cell_type": "code",
   "execution_count": null,
   "outputs": [],
   "source": [],
   "metadata": {
    "collapsed": false
   }
  }
 ],
 "metadata": {
  "kernelspec": {
   "name": "modulation",
   "language": "python",
   "display_name": "modulation"
  },
  "language_info": {
   "codemirror_mode": {
    "name": "ipython",
    "version": 2
   },
   "file_extension": ".py",
   "mimetype": "text/x-python",
   "name": "python",
   "nbconvert_exporter": "python",
   "pygments_lexer": "ipython2",
   "version": "2.7.6"
  }
 },
 "nbformat": 4,
 "nbformat_minor": 0
}
