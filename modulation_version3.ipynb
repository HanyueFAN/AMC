{
 "cells": [
  {
   "cell_type": "code",
   "execution_count": 3,
   "metadata": {
    "collapsed": true,
    "ExecuteTime": {
     "end_time": "2023-11-29T13:46:19.461479100Z",
     "start_time": "2023-11-29T13:46:19.064873100Z"
    }
   },
   "outputs": [],
   "source": [
    "from sklearn.model_selection import train_test_split\n",
    "from ast import literal_eval\n",
    "import numpy as np\n",
    "import torch\n",
    "from torch.utils.data import Dataset, DataLoader\n",
    "import random\n",
    "import pandas as pd\n",
    "from sklearn.preprocessing import MinMaxScaler\n",
    "import torch\n",
    "import h5py\n",
    "from torch.utils.data import DataLoader, TensorDataset, random_split"
   ]
  },
  {
   "cell_type": "code",
   "execution_count": 2,
   "outputs": [],
   "source": [
    "file_path = 'F:\\ISEP_Learning_Document\\Semester3\\End-of-track Project\\dataset\\data_raw\\GOLD_XYZ_OSC.0001_1024.hdf5'"
   ],
   "metadata": {
    "collapsed": false,
    "ExecuteTime": {
     "end_time": "2023-11-29T13:45:52.670861400Z",
     "start_time": "2023-11-29T13:45:52.664860Z"
    }
   }
  },
  {
   "cell_type": "code",
   "execution_count": 4,
   "outputs": [],
   "source": [
    "# Open my file in read mode\n",
    "file_raw = h5py.File(file_path,'r')"
   ],
   "metadata": {
    "collapsed": false,
    "ExecuteTime": {
     "end_time": "2023-11-29T13:58:32.058626Z",
     "start_time": "2023-11-29T13:58:32.053624300Z"
    }
   }
  },
  {
   "cell_type": "code",
   "execution_count": 5,
   "outputs": [],
   "source": [
    "# access the datasets within the HDF5 File\n",
    "data_raw_x = file_raw['X'][:]\n",
    "data_raw_y = file_raw['Y'][:]\n",
    "data_raw_z = file_raw['Z'][:]"
   ],
   "metadata": {
    "collapsed": false,
    "ExecuteTime": {
     "end_time": "2023-11-29T13:59:27.894142500Z",
     "start_time": "2023-11-29T13:58:44.418443800Z"
    }
   }
  },
  {
   "cell_type": "code",
   "execution_count": 6,
   "outputs": [],
   "source": [
    "# Convert the hdf5 dataset to a PyTorch tensor\n",
    "X_tensor = torch.from_numpy(data_raw_x).float()\n",
    "Y_tensor = torch.from_numpy(data_raw_y).long()\n",
    "Z_tensor = torch.from_numpy(data_raw_z).long()"
   ],
   "metadata": {
    "collapsed": false,
    "ExecuteTime": {
     "end_time": "2023-11-29T14:01:27.642176Z",
     "start_time": "2023-11-29T14:01:27.589538100Z"
    }
   }
  },
  {
   "cell_type": "code",
   "execution_count": 7,
   "outputs": [
    {
     "name": "stdout",
     "output_type": "stream",
     "text": [
      "Tensor Dataset_X Information:\n",
      "--------------------------\n",
      "Data type: torch.FloatTensor\n",
      "Data shape: torch.Size([2555904, 1024, 2])\n",
      "Number of elements: 5234491392\n",
      "First few data elements:\n",
      "tensor([[[ 0.0420,  0.2348],\n",
      "         [-0.2729,  0.4051],\n",
      "         [-0.2671,  0.2275],\n",
      "         ...,\n",
      "         [-0.7056, -0.2869],\n",
      "         [-0.4116,  0.6683],\n",
      "         [ 0.0649,  0.6358]],\n",
      "\n",
      "        [[ 1.1986,  0.4494],\n",
      "         [ 0.4854,  0.2827],\n",
      "         [ 0.8679, -0.3319],\n",
      "         ...,\n",
      "         [-1.2129, -0.6429],\n",
      "         [-0.3810,  0.7936],\n",
      "         [ 0.0864,  1.0922]]])\n"
     ]
    }
   ],
   "source": [
    "# The information about dataset X\n",
    "print(\"Tensor Dataset_X Information:\")\n",
    "print(\"--------------------------\")\n",
    "\n",
    "# Check the data type of the tensor dataset\n",
    "print(f\"Data type: {X_tensor.type()}\")\n",
    "\n",
    "# Get the shape (dimensions) of the data\n",
    "print(f\"Data shape: {X_tensor.shape}\")\n",
    "\n",
    "# Check the number of elements in the dataset\n",
    "print(f\"Number of elements: {X_tensor.numel()}\")\n",
    "\n",
    "# Access the first few elements of the data\n",
    "print(\"First few data elements:\")\n",
    "print(X_tensor[:2])"
   ],
   "metadata": {
    "collapsed": false,
    "ExecuteTime": {
     "end_time": "2023-11-29T14:04:05.677833200Z",
     "start_time": "2023-11-29T14:04:05.631934300Z"
    }
   }
  },
  {
   "cell_type": "code",
   "execution_count": 8,
   "outputs": [
    {
     "name": "stdout",
     "output_type": "stream",
     "text": [
      "Tensor Dataset_Y Information:\n",
      "--------------------------\n",
      "Data type: torch.LongTensor\n",
      "Data shape: torch.Size([2555904, 24])\n",
      "Number of elements: 61341696\n",
      "First few data elements:\n",
      "tensor([[1, 0, 0, 0, 0, 0, 0, 0, 0, 0, 0, 0, 0, 0, 0, 0, 0, 0, 0, 0, 0, 0, 0, 0],\n",
      "        [1, 0, 0, 0, 0, 0, 0, 0, 0, 0, 0, 0, 0, 0, 0, 0, 0, 0, 0, 0, 0, 0, 0, 0]])\n"
     ]
    }
   ],
   "source": [
    "# The information about dataset Y\n",
    "print(\"Tensor Dataset_Y Information:\")\n",
    "print(\"--------------------------\")\n",
    "\n",
    "# Check the data type of the tensor dataset\n",
    "print(f\"Data type: {Y_tensor.type()}\")\n",
    "\n",
    "# Get the shape (dimensions) of the data\n",
    "print(f\"Data shape: {Y_tensor.shape}\")\n",
    "\n",
    "# Check the number of elements in the dataset\n",
    "print(f\"Number of elements: {Y_tensor.numel()}\")\n",
    "\n",
    "# Access the first few elements of the data\n",
    "print(\"First few data elements:\")\n",
    "print(Y_tensor[:2])"
   ],
   "metadata": {
    "collapsed": false,
    "ExecuteTime": {
     "end_time": "2023-11-29T14:05:28.951823900Z",
     "start_time": "2023-11-29T14:05:28.939823900Z"
    }
   }
  },
  {
   "cell_type": "code",
   "execution_count": 9,
   "outputs": [
    {
     "name": "stdout",
     "output_type": "stream",
     "text": [
      "Tensor Dataset_Z Information:\n",
      "--------------------------\n",
      "Data type: torch.LongTensor\n",
      "Data shape: torch.Size([2555904, 1])\n",
      "Number of elements: 2555904\n",
      "First few data elements:\n",
      "tensor([[-20],\n",
      "        [-20]])\n"
     ]
    }
   ],
   "source": [
    "# The information about dataset Z\n",
    "print(\"Tensor Dataset_Z Information:\")\n",
    "print(\"--------------------------\")\n",
    "\n",
    "# Check the data type of the tensor dataset\n",
    "print(f\"Data type: {Z_tensor.type()}\")\n",
    "\n",
    "# Get the shape (dimensions) of the data\n",
    "print(f\"Data shape: {Z_tensor.shape}\")\n",
    "\n",
    "# Check the number of elements in the dataset\n",
    "print(f\"Number of elements: {Z_tensor.numel()}\")\n",
    "\n",
    "# Access the first few elements of the data\n",
    "print(\"First few data elements:\")\n",
    "print(Z_tensor[:2])"
   ],
   "metadata": {
    "collapsed": false,
    "ExecuteTime": {
     "end_time": "2023-11-29T14:06:08.433399800Z",
     "start_time": "2023-11-29T14:06:08.386824900Z"
    }
   }
  },
  {
   "cell_type": "code",
   "execution_count": 10,
   "outputs": [],
   "source": [
    "# Expand Z_tensor to match the dimensions of X_tensor\n",
    "Z_tensor_expanded = Z_tensor.unsqueeze(-1).expand(-1, X_tensor.shape[1], X_tensor.shape[2])"
   ],
   "metadata": {
    "collapsed": false,
    "ExecuteTime": {
     "end_time": "2023-11-29T14:37:46.432500700Z",
     "start_time": "2023-11-29T14:37:46.407945300Z"
    }
   }
  },
  {
   "cell_type": "code",
   "execution_count": 11,
   "outputs": [],
   "source": [
    "# Concatenate X_tensor and Z_tensor_expanded along the last dimension\n",
    "XZ_combined = torch.cat([X_tensor, Z_tensor_expanded], dim=2)"
   ],
   "metadata": {
    "collapsed": false,
    "ExecuteTime": {
     "end_time": "2023-11-29T14:45:33.697808500Z",
     "start_time": "2023-11-29T14:37:58.000504700Z"
    }
   }
  },
  {
   "cell_type": "code",
   "execution_count": 12,
   "outputs": [
    {
     "name": "stdout",
     "output_type": "stream",
     "text": [
      "Tensor XZ_combined Information:\n",
      "--------------------------\n",
      "Data type: torch.FloatTensor\n",
      "Data shape: torch.Size([2555904, 1024, 4])\n",
      "Number of elements: 10468982784\n",
      "First few data elements:\n",
      "tensor([[[  0.0420,   0.2348, -20.0000, -20.0000],\n",
      "         [ -0.2729,   0.4051, -20.0000, -20.0000],\n",
      "         [ -0.2671,   0.2275, -20.0000, -20.0000],\n",
      "         ...,\n",
      "         [ -0.7056,  -0.2869, -20.0000, -20.0000],\n",
      "         [ -0.4116,   0.6683, -20.0000, -20.0000],\n",
      "         [  0.0649,   0.6358, -20.0000, -20.0000]],\n",
      "\n",
      "        [[  1.1986,   0.4494, -20.0000, -20.0000],\n",
      "         [  0.4854,   0.2827, -20.0000, -20.0000],\n",
      "         [  0.8679,  -0.3319, -20.0000, -20.0000],\n",
      "         ...,\n",
      "         [ -1.2129,  -0.6429, -20.0000, -20.0000],\n",
      "         [ -0.3810,   0.7936, -20.0000, -20.0000],\n",
      "         [  0.0864,   1.0922, -20.0000, -20.0000]]])\n"
     ]
    }
   ],
   "source": [
    "# The information about dataset XZ_combined\n",
    "print(\"Tensor XZ_combined Information:\")\n",
    "print(\"--------------------------\")\n",
    "\n",
    "# Check the data type of the tensor dataset\n",
    "print(f\"Data type: {XZ_combined.type()}\")\n",
    "\n",
    "# Get the shape (dimensions) of the data\n",
    "print(f\"Data shape: {XZ_combined.shape}\")\n",
    "\n",
    "# Check the number of elements in the dataset\n",
    "print(f\"Number of elements: {XZ_combined.numel()}\")\n",
    "\n",
    "# Access the first few elements of the data\n",
    "print(\"First few data elements:\")\n",
    "print(XZ_combined[:2])"
   ],
   "metadata": {
    "collapsed": false,
    "ExecuteTime": {
     "end_time": "2023-11-29T14:46:35.452544600Z",
     "start_time": "2023-11-29T14:46:35.373872800Z"
    }
   }
  },
  {
   "cell_type": "code",
   "execution_count": 13,
   "outputs": [
    {
     "ename": "KeyboardInterrupt",
     "evalue": "",
     "output_type": "error",
     "traceback": [
      "\u001B[1;31m---------------------------------------------------------------------------\u001B[0m",
      "\u001B[1;31mKeyboardInterrupt\u001B[0m                         Traceback (most recent call last)",
      "\u001B[1;31mKeyboardInterrupt\u001B[0m: "
     ]
    }
   ],
   "source": [
    "# Create an index array and use this array to reorder the two tensors\n",
    "# Create index array\n",
    "indices = np.arange(len(XZ_combined))\n",
    "# Scramble the index\n",
    "np.random.shuffle(indices)\n",
    "# Reorder XZ_combined and Y_tensor using shuffled index\n",
    "XZ_combined_shuffled = XZ_combined[indices]\n",
    "Y_tensor_shuffled = Y_tensor[indices]"
   ],
   "metadata": {
    "collapsed": false,
    "ExecuteTime": {
     "end_time": "2023-11-29T15:20:32.161797Z",
     "start_time": "2023-11-29T15:09:07.416297400Z"
    }
   }
  },
  {
   "cell_type": "code",
   "execution_count": null,
   "outputs": [],
   "source": [],
   "metadata": {
    "collapsed": false
   }
  }
 ],
 "metadata": {
  "kernelspec": {
   "name": "modulation",
   "language": "python",
   "display_name": "modulation"
  },
  "language_info": {
   "codemirror_mode": {
    "name": "ipython",
    "version": 2
   },
   "file_extension": ".py",
   "mimetype": "text/x-python",
   "name": "python",
   "nbconvert_exporter": "python",
   "pygments_lexer": "ipython2",
   "version": "2.7.6"
  }
 },
 "nbformat": 4,
 "nbformat_minor": 0
}
