{
 "cells": [
  {
   "cell_type": "code",
   "execution_count": 1,
   "metadata": {
    "collapsed": true,
    "ExecuteTime": {
     "end_time": "2023-12-07T02:19:07.904989500Z",
     "start_time": "2023-12-07T02:19:04.618464800Z"
    }
   },
   "outputs": [],
   "source": [
    "from sklearn.model_selection import train_test_split\n",
    "from ast import literal_eval\n",
    "from torch.utils.data import Dataset, DataLoader\n",
    "import torch\n",
    "import h5py\n",
    "from torch.utils.data import DataLoader, TensorDataset, random_split"
   ]
  },
  {
   "cell_type": "code",
   "execution_count": 2,
   "outputs": [],
   "source": [
    "file_path = 'F:\\ISEP_Learning_Document\\Semester3\\End-of-track Project\\dataset\\data_raw\\GOLD_XYZ_OSC.0001_1024.hdf5'"
   ],
   "metadata": {
    "collapsed": false,
    "ExecuteTime": {
     "end_time": "2023-12-07T02:19:18.303687100Z",
     "start_time": "2023-12-07T02:19:18.265191900Z"
    }
   }
  },
  {
   "cell_type": "code",
   "execution_count": 3,
   "outputs": [],
   "source": [
    "# Open my file in read mode\n",
    "file_raw = h5py.File(file_path,'r')"
   ],
   "metadata": {
    "collapsed": false,
    "ExecuteTime": {
     "end_time": "2023-12-07T02:19:18.828254600Z",
     "start_time": "2023-12-07T02:19:18.802252100Z"
    }
   }
  },
  {
   "cell_type": "code",
   "execution_count": 4,
   "outputs": [],
   "source": [
    "# access the datasets within the HDF5 File\n",
    "data_raw_x = file_raw['X'][:]\n",
    "data_raw_y = file_raw['Y'][:]\n",
    "data_raw_z = file_raw['Z'][:]"
   ],
   "metadata": {
    "collapsed": false,
    "ExecuteTime": {
     "end_time": "2023-12-07T02:20:03.842518800Z",
     "start_time": "2023-12-07T02:19:19.373395600Z"
    }
   }
  },
  {
   "cell_type": "code",
   "execution_count": 5,
   "outputs": [],
   "source": [
    "# Convert the hdf5 dataset to a PyTorch tensor\n",
    "X_tensor = torch.from_numpy(data_raw_x).float()\n",
    "Y_tensor = torch.from_numpy(data_raw_y).long()\n",
    "Z_tensor = torch.from_numpy(data_raw_z).long()"
   ],
   "metadata": {
    "collapsed": false,
    "ExecuteTime": {
     "end_time": "2023-12-07T02:20:11.295857800Z",
     "start_time": "2023-12-07T02:20:11.277927100Z"
    }
   }
  },
  {
   "cell_type": "code",
   "execution_count": 6,
   "outputs": [
    {
     "name": "stdout",
     "output_type": "stream",
     "text": [
      "Tensor Dataset_X Information:\n",
      "--------------------------\n",
      "Data type: torch.FloatTensor\n",
      "Data shape: torch.Size([2555904, 1024, 2])\n",
      "Number of elements: 5234491392\n",
      "First few data elements:\n",
      "tensor([[[ 0.0420,  0.2348],\n",
      "         [-0.2729,  0.4051],\n",
      "         [-0.2671,  0.2275],\n",
      "         ...,\n",
      "         [-0.7056, -0.2869],\n",
      "         [-0.4116,  0.6683],\n",
      "         [ 0.0649,  0.6358]],\n",
      "\n",
      "        [[ 1.1986,  0.4494],\n",
      "         [ 0.4854,  0.2827],\n",
      "         [ 0.8679, -0.3319],\n",
      "         ...,\n",
      "         [-1.2129, -0.6429],\n",
      "         [-0.3810,  0.7936],\n",
      "         [ 0.0864,  1.0922]],\n",
      "\n",
      "        [[-0.2235,  0.1814],\n",
      "         [ 0.0620, -0.9343],\n",
      "         [ 0.7195,  0.2179],\n",
      "         ...,\n",
      "         [ 0.7599,  0.0082],\n",
      "         [ 0.3397,  0.1293],\n",
      "         [ 0.5823,  0.1078]],\n",
      "\n",
      "        ...,\n",
      "\n",
      "        [[-0.2001,  1.0368],\n",
      "         [-0.4378, -0.9239],\n",
      "         [-1.3281, -0.3239],\n",
      "         ...,\n",
      "         [ 0.3032,  1.0953],\n",
      "         [-1.2550,  0.7407],\n",
      "         [-0.9081,  0.3837]],\n",
      "\n",
      "        [[ 0.5385, -0.7164],\n",
      "         [ 0.1019,  0.4777],\n",
      "         [-0.0316,  0.2063],\n",
      "         ...,\n",
      "         [ 1.4347,  0.4845],\n",
      "         [-0.0778,  0.0523],\n",
      "         [ 1.2051, -0.0068]],\n",
      "\n",
      "        [[-0.0953,  0.2471],\n",
      "         [-1.8387, -0.4583],\n",
      "         [-0.3410,  0.6197],\n",
      "         ...,\n",
      "         [-0.0165, -1.1036],\n",
      "         [ 1.6031, -0.6724],\n",
      "         [-0.2276, -0.3404]]])\n"
     ]
    }
   ],
   "source": [
    "# The information about dataset X\n",
    "print(\"Tensor Dataset_X Information:\")\n",
    "print(\"--------------------------\")\n",
    "\n",
    "# Check the data type of the tensor dataset\n",
    "print(f\"Data type: {X_tensor.type()}\")\n",
    "\n",
    "# Get the shape (dimensions) of the data\n",
    "print(f\"Data shape: {X_tensor.shape}\")\n",
    "\n",
    "# Check the number of elements in the dataset\n",
    "print(f\"Number of elements: {X_tensor.numel()}\")\n",
    "\n",
    "# Access the first few elements of the data\n",
    "print(\"First few data elements:\")\n",
    "print(X_tensor[:20])"
   ],
   "metadata": {
    "collapsed": false,
    "ExecuteTime": {
     "end_time": "2023-12-07T02:20:13.603754700Z",
     "start_time": "2023-12-07T02:20:13.575678400Z"
    }
   }
  },
  {
   "cell_type": "code",
   "execution_count": 7,
   "outputs": [
    {
     "name": "stdout",
     "output_type": "stream",
     "text": [
      "Tensor Dataset_Y Information:\n",
      "--------------------------\n",
      "Data type: torch.LongTensor\n",
      "Data shape: torch.Size([2555904, 24])\n",
      "Number of elements: 61341696\n",
      "First few data elements:\n",
      "tensor([[1, 0, 0, 0, 0, 0, 0, 0, 0, 0, 0, 0, 0, 0, 0, 0, 0, 0, 0, 0, 0, 0, 0, 0],\n",
      "        [1, 0, 0, 0, 0, 0, 0, 0, 0, 0, 0, 0, 0, 0, 0, 0, 0, 0, 0, 0, 0, 0, 0, 0]])\n"
     ]
    }
   ],
   "source": [
    "# The information about dataset Y\n",
    "print(\"Tensor Dataset_Y Information:\")\n",
    "print(\"--------------------------\")\n",
    "\n",
    "# Check the data type of the tensor dataset\n",
    "print(f\"Data type: {Y_tensor.type()}\")\n",
    "\n",
    "# Get the shape (dimensions) of the data\n",
    "print(f\"Data shape: {Y_tensor.shape}\")\n",
    "\n",
    "# Check the number of elements in the dataset\n",
    "print(f\"Number of elements: {Y_tensor.numel()}\")\n",
    "\n",
    "# Access the first few elements of the data\n",
    "print(\"First few data elements:\")\n",
    "print(Y_tensor[:2])"
   ],
   "metadata": {
    "collapsed": false,
    "ExecuteTime": {
     "end_time": "2023-12-07T02:20:14.116225600Z",
     "start_time": "2023-12-07T02:20:14.104212100Z"
    }
   }
  },
  {
   "cell_type": "code",
   "execution_count": 8,
   "outputs": [
    {
     "name": "stdout",
     "output_type": "stream",
     "text": [
      "Tensor Dataset_Z Information:\n",
      "--------------------------\n",
      "Data type: torch.LongTensor\n",
      "Data shape: torch.Size([2555904, 1])\n",
      "Number of elements: 2555904\n",
      "First few data elements:\n",
      "tensor([[-20],\n",
      "        [-20]])\n"
     ]
    }
   ],
   "source": [
    "# The information about dataset Z\n",
    "print(\"Tensor Dataset_Z Information:\")\n",
    "print(\"--------------------------\")\n",
    "\n",
    "# Check the data type of the tensor dataset\n",
    "print(f\"Data type: {Z_tensor.type()}\")\n",
    "\n",
    "# Get the shape (dimensions) of the data\n",
    "print(f\"Data shape: {Z_tensor.shape}\")\n",
    "\n",
    "# Check the number of elements in the dataset\n",
    "print(f\"Number of elements: {Z_tensor.numel()}\")\n",
    "\n",
    "# Access the first few elements of the data\n",
    "print(\"First few data elements:\")\n",
    "print(Z_tensor[:2])"
   ],
   "metadata": {
    "collapsed": false,
    "ExecuteTime": {
     "end_time": "2023-12-07T02:20:14.628963Z",
     "start_time": "2023-12-07T02:20:14.609961Z"
    }
   }
  },
  {
   "cell_type": "code",
   "execution_count": 9,
   "outputs": [
    {
     "name": "stdout",
     "output_type": "stream",
     "text": [
      "Training set size: 1533542\n",
      "Validation set size: 511181\n",
      "Test set size: 511181\n"
     ]
    }
   ],
   "source": [
    "# Split the dataset ：60% trainset，40% temporary set\n",
    "X_train, X_temp, Y_train, Y_temp = train_test_split(X_tensor, Y_tensor, test_size=0.4, random_state=42, stratify=Y_tensor)\n",
    "\n",
    "# Split temporaryset ：50% validation dataset，50% testset\n",
    "X_val, X_test, Y_val, Y_test = train_test_split(X_temp, Y_temp, test_size=0.5, random_state=42, stratify=Y_temp)\n",
    "\n",
    "# check\n",
    "print(\"Training set size:\", X_train.shape[0])\n",
    "print(\"Validation set size:\", X_val.shape[0])\n",
    "print(\"Test set size:\", X_test.shape[0])"
   ],
   "metadata": {
    "collapsed": false,
    "ExecuteTime": {
     "end_time": "2023-12-07T02:32:45.118904400Z",
     "start_time": "2023-12-07T02:20:26.402381800Z"
    }
   }
  },
  {
   "cell_type": "code",
   "execution_count": 10,
   "outputs": [],
   "source": [
    "class CustomDataset(Dataset):\n",
    "    def __init__(self, features, labels):\n",
    "        self.features = features\n",
    "        self.labels = labels\n",
    "\n",
    "    def __len__(self):\n",
    "        return len(self.labels)\n",
    "\n",
    "    def __getitem__(self, idx):\n",
    "        return self.features[idx], self.labels[idx]\n",
    "\n",
    "train_dataset = CustomDataset(X_train, Y_train)\n",
    "val_dataset = CustomDataset(X_val, Y_val)\n",
    "test_dataset = CustomDataset(X_test, Y_test)\n",
    "\n",
    "train_loader = DataLoader(train_dataset, batch_size=64, shuffle=True)\n",
    "val_loader = DataLoader(val_dataset, batch_size=64, shuffle=False)\n",
    "test_loader = DataLoader(test_dataset, batch_size=64, shuffle=False)"
   ],
   "metadata": {
    "collapsed": false,
    "ExecuteTime": {
     "end_time": "2023-12-07T02:32:52.284628500Z",
     "start_time": "2023-12-07T02:32:52.189607500Z"
    }
   }
  },
  {
   "cell_type": "code",
   "execution_count": 11,
   "outputs": [],
   "source": [
    "import torch.nn as nn\n",
    "\n",
    "class ModulationCNN(nn.Module):\n",
    "    def __init__(self, num_features, n_classes, input_length=1024, dropout_rate=0.5):\n",
    "        super().__init__()\n",
    "\n",
    "        self.conv1 = nn.Conv1d(in_channels=num_features, out_channels=48, kernel_size=2, stride=2)\n",
    "        self.batchnorm1 = nn.BatchNorm1d(48)\n",
    "        self.dropout1 = nn.Dropout(dropout_rate)\n",
    "        self.conv2 = nn.Conv1d(in_channels=48, out_channels=48, kernel_size=2, stride=2)\n",
    "        self.batchnorm2 = nn.BatchNorm1d(48)\n",
    "        self.dropout2 = nn.Dropout(dropout_rate)\n",
    "        self.conv3 = nn.Conv1d(in_channels=48, out_channels=24, kernel_size=1, stride=1)\n",
    "        self.batchnorm3 = nn.BatchNorm1d(24)\n",
    "        self.flatten = nn.Flatten()\n",
    "\n",
    "        # Simplifying the model (reducing the number of neurons in the fully connected layer)\n",
    "        flattened_size = self._compute_flattened_size(input_length, num_features)\n",
    "        self.fc1 = nn.Linear(flattened_size, 64)  # Reduced number of neurons\n",
    "        self.batchnorm_fc1 = nn.BatchNorm1d(64)\n",
    "        self.dropout_fc1 = nn.Dropout(dropout_rate)\n",
    "        self.fc2 = nn.Linear(64, n_classes)  # Adjusted according to the new number of neurons\n",
    "\n",
    "        self.af = nn.ReLU()\n",
    "        self.af_out = nn.Softmax(dim=1)\n",
    "\n",
    "    def _compute_flattened_size(self, input_length, num_features):\n",
    "        # Temporary tensor used to calculate the flattened dimensions\n",
    "        temp_tensor = torch.zeros(1, num_features, input_length)\n",
    "\n",
    "        # Through convolutional layers but excluding fully connected layers\n",
    "        temp_tensor = self.conv1(temp_tensor)\n",
    "        temp_tensor = self.batchnorm1(temp_tensor)\n",
    "        temp_tensor = self.conv2(temp_tensor)\n",
    "        temp_tensor = self.batchnorm2(temp_tensor)\n",
    "        temp_tensor = self.conv3(temp_tensor)\n",
    "        temp_tensor = self.batchnorm3(temp_tensor)\n",
    "        temp_tensor = self.flatten(temp_tensor)\n",
    "\n",
    "        # Returns the total number of features after flattening\n",
    "        return temp_tensor.nelement()\n",
    "\n",
    "    def forward(self, X):\n",
    "        x = self.conv1(X.permute(0, 2, 1))\n",
    "        x = self.af(self.batchnorm1(x))\n",
    "        x = self.dropout1(x)\n",
    "\n",
    "        x = self.conv2(x)\n",
    "        x = self.af(self.batchnorm2(x))\n",
    "        x = self.dropout2(x)\n",
    "\n",
    "        x = self.conv3(x)\n",
    "        x = self.af(self.batchnorm3(x))\n",
    "        x = self.flatten(x)  # Flatten\n",
    "\n",
    "        x = self.fc1(x)\n",
    "        x = self.af(self.batchnorm_fc1(x))\n",
    "        x = self.dropout_fc1(x)\n",
    "\n",
    "        x = self.fc2(x)\n",
    "        x = self.af_out(x)\n",
    "        return x\n"
   ],
   "metadata": {
    "collapsed": false,
    "ExecuteTime": {
     "end_time": "2023-12-07T02:32:54.055015300Z",
     "start_time": "2023-12-07T02:32:54.016015400Z"
    }
   }
  },
  {
   "cell_type": "code",
   "execution_count": 12,
   "outputs": [
    {
     "name": "stdout",
     "output_type": "stream",
     "text": [
      "Using device: cuda\n"
     ]
    }
   ],
   "source": [
    "import torch\n",
    "import torch.nn as nn\n",
    "import torch.optim as optim\n",
    "\n",
    "\n",
    "device = torch.device(\"cuda\" if torch.cuda.is_available() else \"cpu\")\n",
    "print(\"Using device:\", device)\n",
    "\n",
    "model = ModulationCNN(num_features=2, n_classes=24, dropout_rate = 0.5).to(device)\n",
    "\n",
    "criterion = nn.CrossEntropyLoss()\n",
    "optimizer = optim.Adam(model.parameters(), lr=0.001)"
   ],
   "metadata": {
    "collapsed": false,
    "ExecuteTime": {
     "end_time": "2023-12-07T02:32:55.864148700Z",
     "start_time": "2023-12-07T02:32:55.089118900Z"
    }
   }
  },
  {
   "cell_type": "code",
   "execution_count": 13,
   "outputs": [
    {
     "name": "stderr",
     "output_type": "stream",
     "text": [
      "Epoch 1/10 [Train]: 100%|██████████| 23962/23962 [09:02<00:00, 44.14it/s, acc=0.241, loss=3]     \n",
      "Epoch 1/10 [Val]: 100%|██████████| 7988/7988 [00:44<00:00, 180.23it/s, acc=0.185, loss=3.06]\n",
      "Epoch 2/10 [Train]: 100%|██████████| 23962/23962 [05:36<00:00, 71.27it/s, acc=0.267, loss=2.97]\n",
      "Epoch 2/10 [Val]: 100%|██████████| 7988/7988 [00:43<00:00, 181.80it/s, acc=0.179, loss=3.07]\n",
      "Epoch 3/10 [Train]:   2%|▏         | 363/23962 [00:05<05:38, 69.72it/s, acc=0.278, loss=2.97]\n"
     ]
    },
    {
     "ename": "KeyboardInterrupt",
     "evalue": "",
     "output_type": "error",
     "traceback": [
      "\u001B[1;31m---------------------------------------------------------------------------\u001B[0m",
      "\u001B[1;31mKeyboardInterrupt\u001B[0m                         Traceback (most recent call last)",
      "Cell \u001B[1;32mIn[13], line 26\u001B[0m\n\u001B[0;32m     23\u001B[0m optimizer\u001B[38;5;241m.\u001B[39mstep()\n\u001B[0;32m     25\u001B[0m \u001B[38;5;66;03m# Calculate training accuracy\u001B[39;00m\n\u001B[1;32m---> 26\u001B[0m _, predicted \u001B[38;5;241m=\u001B[39m \u001B[43mtorch\u001B[49m\u001B[38;5;241;43m.\u001B[39;49m\u001B[43mmax\u001B[49m\u001B[43m(\u001B[49m\u001B[43moutputs\u001B[49m\u001B[38;5;241;43m.\u001B[39;49m\u001B[43mdata\u001B[49m\u001B[43m,\u001B[49m\u001B[43m \u001B[49m\u001B[38;5;241;43m1\u001B[39;49m\u001B[43m)\u001B[49m\n\u001B[0;32m     27\u001B[0m correct \u001B[38;5;241m=\u001B[39m (predicted \u001B[38;5;241m==\u001B[39m torch\u001B[38;5;241m.\u001B[39mmax(labels, \u001B[38;5;241m1\u001B[39m)[\u001B[38;5;241m1\u001B[39m])\u001B[38;5;241m.\u001B[39mfloat()\u001B[38;5;241m.\u001B[39msum()\u001B[38;5;241m.\u001B[39mitem()\n\u001B[0;32m     28\u001B[0m running_train_acc \u001B[38;5;241m+\u001B[39m\u001B[38;5;241m=\u001B[39m correct \u001B[38;5;241m/\u001B[39m labels\u001B[38;5;241m.\u001B[39msize(\u001B[38;5;241m0\u001B[39m)\n",
      "\u001B[1;31mKeyboardInterrupt\u001B[0m: "
     ]
    }
   ],
   "source": [
    "from tqdm import tqdm\n",
    "import torch.nn as nn\n",
    "\n",
    "n_epochs = 10\n",
    "\n",
    "for epoch in range(n_epochs):\n",
    "    model.train()\n",
    "    running_train_loss = 0.0\n",
    "    running_train_acc = 0.0\n",
    "    progress_bar_train = tqdm(train_loader, desc=f'Epoch {epoch+1}/{n_epochs} [Train]')\n",
    "\n",
    "    for inputs, labels in progress_bar_train:\n",
    "        inputs, labels = inputs.to(device), labels.to(device)\n",
    "        optimizer.zero_grad()\n",
    "\n",
    "        # forward propagation\n",
    "        outputs = model(inputs)\n",
    "        loss = criterion(outputs, torch.max(labels, 1)[1])\n",
    "        running_train_loss += loss.item()\n",
    "\n",
    "        # Backpropagation and optimization\n",
    "        loss.backward()\n",
    "        optimizer.step()\n",
    "\n",
    "        # Calculate training accuracy\n",
    "        _, predicted = torch.max(outputs.data, 1)\n",
    "        correct = (predicted == torch.max(labels, 1)[1]).float().sum().item()\n",
    "        running_train_acc += correct / labels.size(0)\n",
    "\n",
    "        # Update progress bar\n",
    "        progress_bar_train.set_postfix(loss=running_train_loss/(progress_bar_train.n+1),\n",
    "                                       acc=running_train_acc/(progress_bar_train.n+1))\n",
    "\n",
    "    model.eval()\n",
    "    running_val_loss = 0.0\n",
    "    running_val_acc = 0.0\n",
    "    progress_bar_val = tqdm(val_loader, desc=f'Epoch {epoch+1}/{n_epochs} [Val]')\n",
    "\n",
    "    with torch.no_grad():\n",
    "        for inputs, labels in progress_bar_val:\n",
    "            inputs, labels = inputs.to(device), labels.to(device)\n",
    "\n",
    "            outputs = model(inputs)\n",
    "            loss = criterion(outputs, torch.max(labels, 1)[1])\n",
    "            running_val_loss += loss.item()\n",
    "\n",
    "            _, predicted = torch.max(outputs.data, 1)\n",
    "            correct = (predicted == torch.max(labels, 1)[1]).float().sum().item()\n",
    "            running_val_acc += correct / labels.size(0)\n",
    "\n",
    "            progress_bar_val.set_postfix(loss=running_val_loss/(progress_bar_val.n+1),\n",
    "                                         acc=running_val_acc/(progress_bar_val.n+1))"
   ],
   "metadata": {
    "collapsed": false,
    "ExecuteTime": {
     "end_time": "2023-12-07T02:49:11.405439900Z",
     "start_time": "2023-12-07T02:32:56.941757500Z"
    }
   }
  },
  {
   "cell_type": "code",
   "execution_count": null,
   "outputs": [],
   "source": [],
   "metadata": {
    "collapsed": false
   }
  }
 ],
 "metadata": {
  "kernelspec": {
   "name": "modulation",
   "language": "python",
   "display_name": "modulation"
  },
  "language_info": {
   "codemirror_mode": {
    "name": "ipython",
    "version": 2
   },
   "file_extension": ".py",
   "mimetype": "text/x-python",
   "name": "python",
   "nbconvert_exporter": "python",
   "pygments_lexer": "ipython2",
   "version": "2.7.6"
  }
 },
 "nbformat": 4,
 "nbformat_minor": 0
}
